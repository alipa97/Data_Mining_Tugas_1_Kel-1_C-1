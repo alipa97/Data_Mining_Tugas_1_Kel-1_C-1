{
 "cells": [
  {
   "cell_type": "markdown",
   "id": "da2f2cf3",
   "metadata": {},
   "source": [
    "(1) Tambahkan link untuk setiap dataset\n",
    "(2) tambahkan penjelasan pada pra-proses\n",
    "(3) ganti data posyandu 2019"
   ]
  },
  {
   "cell_type": "markdown",
   "id": "61e2ba9a",
   "metadata": {},
   "source": [
    "# Analisis Data Kesehatan Masyarakat Provinsi Jawa Barat"
   ]
  },
  {
   "cell_type": "markdown",
   "id": "ccd07259",
   "metadata": {},
   "source": [
    "Catatan : Progres dari pekerjaan yang kami lakukan masih berada di sekitar 35%, masih jauh dari target akhir. Kami baru selesai melakukan pembersihan data fasilitas kesehatan, untuk pembersihan dataset penyakit ditargetkan selesai pada 06/10/24. Tentunya kami berusaha memastikan seluruh dataset terbebas dari anomali guna menghasilkan informasi yang berkualiatas. "
   ]
  },
  {
   "cell_type": "markdown",
   "id": "027c2ec3",
   "metadata": {},
   "source": [
    "Tanggal Pembuatan Awal : 02 Oktober 2024\n",
    "\n",
    "Tanggal Perbaikan : 1 Oktober 2023\n",
    "\n",
    "### Kelompok 1\n",
    "Alifa Salsabila (2308138)\n",
    "Muhammad Bintang Eighista (2304137)\n",
    "Nina Wulandari (2312091)\n",
    "Putra Aditya Simbolon (2305839)\n",
    "Yahyo Abdullozoda (2313368)\n",
    "\n",
    "### Pendahuluan\n",
    "Dalam rangka memaksimalkan penggunaan fasilitas kesehatan dalam melayani pasien di provinsi Jawa Barat kita menganalisis data dari beberapa kasus penyakit dengan ketersediaan fasilitas kesehatan di provinsi Jawa Barat. Untuk mengetahui hal-hal tersebut, analisis ini menggunakan data dari Dinas Kesehatan untuk mengeksplorasi jumlah fasilitas kesehatan dan hubungannya dengan beberapa penyakit. Dalam konteks ini, beberapa penyakit tersebut yaitu, campak, demam, pneumonia, tetanus, tuberkulosis, diare, malaria, HIV, dan AIDS. Dengan analisis ini, kita bisa mengetahui hubungan suatu kasus penyakit dengan kasus lainnya.\n",
    "\n",
    "### Pertanyaan\n",
    "1. Bagaimana tren penyakit tertentu di kabupaten/kota Provinsi Jawa Barat?\n",
    "2. Bagaimana hubungan antara kasus penyakit dengan penyakit lainnya?\n",
    "3. Bagaimana distribusi fasilitas Kesehatan di kabupaten/kota di Provinsi Jawa Barat?\n",
    "4. Bagaimana perseberan Fasilitas Kesehatan di Kabupaten/Kota di Provinsi Jawa Barat?\n"
   ]
  },
  {
   "cell_type": "markdown",
   "id": "be6ded67",
   "metadata": {},
   "source": [
    "# LIBRARY"
   ]
  },
  {
   "cell_type": "code",
   "execution_count": 1,
   "id": "f10e2376",
   "metadata": {},
   "outputs": [],
   "source": [
    "import pandas as pd\n",
    "from scipy import stats\n",
    "import matplotlib.pyplot as plt"
   ]
  },
  {
   "cell_type": "markdown",
   "id": "6252da12",
   "metadata": {},
   "source": [
    "# DATASET YANG DIGUNAKAN"
   ]
  },
  {
   "cell_type": "markdown",
   "id": "c8a2f5bb",
   "metadata": {},
   "source": [
    "## Jumlah Fasilitas Kesehatan Berdasarkan Jenis di Jawa Barat"
   ]
  },
  {
   "cell_type": "markdown",
   "id": "96c97abf",
   "metadata": {},
   "source": [
    "tautan dataset : https://opendata.jabarprov.go.id/id/dataset/jumlah-fasilitas-kesehatan-berdasarkan-jenis-di-jawa-barat"
   ]
  },
  {
   "cell_type": "code",
   "execution_count": 2,
   "id": "368b3898",
   "metadata": {},
   "outputs": [],
   "source": [
    "faskes = pd.read_csv(\"content/Datasets/jumlah_fasilitas_kesehatan.csv\")"
   ]
  },
  {
   "cell_type": "code",
   "execution_count": 3,
   "id": "1e3599d3",
   "metadata": {},
   "outputs": [
    {
     "name": "stdout",
     "output_type": "stream",
     "text": [
      "<class 'pandas.core.frame.DataFrame'>\n",
      "RangeIndex: 810 entries, 0 to 809\n",
      "Data columns (total 9 columns):\n",
      " #   Column               Non-Null Count  Dtype \n",
      "---  ------               --------------  ----- \n",
      " 0   id                   810 non-null    int64 \n",
      " 1   kode_provinsi        810 non-null    int64 \n",
      " 2   nama_provinsi        810 non-null    object\n",
      " 3   kode_kabupaten_kota  810 non-null    int64 \n",
      " 4   nama_kabupaten_kota  810 non-null    object\n",
      " 5   jenis_faskes         810 non-null    object\n",
      " 6   jumlah_faskes        810 non-null    int64 \n",
      " 7   satuan               810 non-null    object\n",
      " 8   tahun                810 non-null    int64 \n",
      "dtypes: int64(5), object(4)\n",
      "memory usage: 57.1+ KB\n"
     ]
    }
   ],
   "source": [
    "faskes.info()"
   ]
  },
  {
   "cell_type": "code",
   "execution_count": 4,
   "id": "8871c103",
   "metadata": {},
   "outputs": [
    {
     "data": {
      "text/html": [
       "<div>\n",
       "<style scoped>\n",
       "    .dataframe tbody tr th:only-of-type {\n",
       "        vertical-align: middle;\n",
       "    }\n",
       "\n",
       "    .dataframe tbody tr th {\n",
       "        vertical-align: top;\n",
       "    }\n",
       "\n",
       "    .dataframe thead th {\n",
       "        text-align: right;\n",
       "    }\n",
       "</style>\n",
       "<table border=\"1\" class=\"dataframe\">\n",
       "  <thead>\n",
       "    <tr style=\"text-align: right;\">\n",
       "      <th></th>\n",
       "      <th>id</th>\n",
       "      <th>kode_provinsi</th>\n",
       "      <th>nama_provinsi</th>\n",
       "      <th>kode_kabupaten_kota</th>\n",
       "      <th>nama_kabupaten_kota</th>\n",
       "      <th>jenis_faskes</th>\n",
       "      <th>jumlah_faskes</th>\n",
       "      <th>satuan</th>\n",
       "      <th>tahun</th>\n",
       "    </tr>\n",
       "  </thead>\n",
       "  <tbody>\n",
       "    <tr>\n",
       "      <th>0</th>\n",
       "      <td>1</td>\n",
       "      <td>32</td>\n",
       "      <td>JAWA BARAT</td>\n",
       "      <td>3201</td>\n",
       "      <td>KABUPATEN BOGOR</td>\n",
       "      <td>RUMAH SAKIT UMUM</td>\n",
       "      <td>9</td>\n",
       "      <td>UNIT</td>\n",
       "      <td>2018</td>\n",
       "    </tr>\n",
       "    <tr>\n",
       "      <th>1</th>\n",
       "      <td>2</td>\n",
       "      <td>32</td>\n",
       "      <td>JAWA BARAT</td>\n",
       "      <td>3201</td>\n",
       "      <td>KABUPATEN BOGOR</td>\n",
       "      <td>RUMAH SAKIT KHUSUS</td>\n",
       "      <td>0</td>\n",
       "      <td>UNIT</td>\n",
       "      <td>2018</td>\n",
       "    </tr>\n",
       "    <tr>\n",
       "      <th>2</th>\n",
       "      <td>3</td>\n",
       "      <td>32</td>\n",
       "      <td>JAWA BARAT</td>\n",
       "      <td>3201</td>\n",
       "      <td>KABUPATEN BOGOR</td>\n",
       "      <td>RUMAH SAKIT BERSALIN</td>\n",
       "      <td>0</td>\n",
       "      <td>UNIT</td>\n",
       "      <td>2018</td>\n",
       "    </tr>\n",
       "    <tr>\n",
       "      <th>3</th>\n",
       "      <td>4</td>\n",
       "      <td>32</td>\n",
       "      <td>JAWA BARAT</td>\n",
       "      <td>3201</td>\n",
       "      <td>KABUPATEN BOGOR</td>\n",
       "      <td>PUSKESMAS</td>\n",
       "      <td>62</td>\n",
       "      <td>UNIT</td>\n",
       "      <td>2018</td>\n",
       "    </tr>\n",
       "    <tr>\n",
       "      <th>4</th>\n",
       "      <td>5</td>\n",
       "      <td>32</td>\n",
       "      <td>JAWA BARAT</td>\n",
       "      <td>3201</td>\n",
       "      <td>KABUPATEN BOGOR</td>\n",
       "      <td>POSYANDU</td>\n",
       "      <td>4927</td>\n",
       "      <td>UNIT</td>\n",
       "      <td>2018</td>\n",
       "    </tr>\n",
       "    <tr>\n",
       "      <th>5</th>\n",
       "      <td>6</td>\n",
       "      <td>32</td>\n",
       "      <td>JAWA BARAT</td>\n",
       "      <td>3202</td>\n",
       "      <td>KABUPATEN SUKABUMI</td>\n",
       "      <td>RUMAH SAKIT UMUM</td>\n",
       "      <td>7</td>\n",
       "      <td>UNIT</td>\n",
       "      <td>2018</td>\n",
       "    </tr>\n",
       "    <tr>\n",
       "      <th>6</th>\n",
       "      <td>7</td>\n",
       "      <td>32</td>\n",
       "      <td>JAWA BARAT</td>\n",
       "      <td>3202</td>\n",
       "      <td>KABUPATEN SUKABUMI</td>\n",
       "      <td>RUMAH SAKIT KHUSUS</td>\n",
       "      <td>0</td>\n",
       "      <td>UNIT</td>\n",
       "      <td>2018</td>\n",
       "    </tr>\n",
       "    <tr>\n",
       "      <th>7</th>\n",
       "      <td>8</td>\n",
       "      <td>32</td>\n",
       "      <td>JAWA BARAT</td>\n",
       "      <td>3202</td>\n",
       "      <td>KABUPATEN SUKABUMI</td>\n",
       "      <td>RUMAH SAKIT BERSALIN</td>\n",
       "      <td>0</td>\n",
       "      <td>UNIT</td>\n",
       "      <td>2018</td>\n",
       "    </tr>\n",
       "    <tr>\n",
       "      <th>8</th>\n",
       "      <td>9</td>\n",
       "      <td>32</td>\n",
       "      <td>JAWA BARAT</td>\n",
       "      <td>3202</td>\n",
       "      <td>KABUPATEN SUKABUMI</td>\n",
       "      <td>PUSKESMAS</td>\n",
       "      <td>32</td>\n",
       "      <td>UNIT</td>\n",
       "      <td>2018</td>\n",
       "    </tr>\n",
       "    <tr>\n",
       "      <th>9</th>\n",
       "      <td>10</td>\n",
       "      <td>32</td>\n",
       "      <td>JAWA BARAT</td>\n",
       "      <td>3202</td>\n",
       "      <td>KABUPATEN SUKABUMI</td>\n",
       "      <td>POSYANDU</td>\n",
       "      <td>3551</td>\n",
       "      <td>UNIT</td>\n",
       "      <td>2018</td>\n",
       "    </tr>\n",
       "  </tbody>\n",
       "</table>\n",
       "</div>"
      ],
      "text/plain": [
       "   id  kode_provinsi nama_provinsi  kode_kabupaten_kota nama_kabupaten_kota  \\\n",
       "0   1             32    JAWA BARAT                 3201     KABUPATEN BOGOR   \n",
       "1   2             32    JAWA BARAT                 3201     KABUPATEN BOGOR   \n",
       "2   3             32    JAWA BARAT                 3201     KABUPATEN BOGOR   \n",
       "3   4             32    JAWA BARAT                 3201     KABUPATEN BOGOR   \n",
       "4   5             32    JAWA BARAT                 3201     KABUPATEN BOGOR   \n",
       "5   6             32    JAWA BARAT                 3202  KABUPATEN SUKABUMI   \n",
       "6   7             32    JAWA BARAT                 3202  KABUPATEN SUKABUMI   \n",
       "7   8             32    JAWA BARAT                 3202  KABUPATEN SUKABUMI   \n",
       "8   9             32    JAWA BARAT                 3202  KABUPATEN SUKABUMI   \n",
       "9  10             32    JAWA BARAT                 3202  KABUPATEN SUKABUMI   \n",
       "\n",
       "           jenis_faskes  jumlah_faskes satuan  tahun  \n",
       "0      RUMAH SAKIT UMUM              9   UNIT   2018  \n",
       "1    RUMAH SAKIT KHUSUS              0   UNIT   2018  \n",
       "2  RUMAH SAKIT BERSALIN              0   UNIT   2018  \n",
       "3             PUSKESMAS             62   UNIT   2018  \n",
       "4              POSYANDU           4927   UNIT   2018  \n",
       "5      RUMAH SAKIT UMUM              7   UNIT   2018  \n",
       "6    RUMAH SAKIT KHUSUS              0   UNIT   2018  \n",
       "7  RUMAH SAKIT BERSALIN              0   UNIT   2018  \n",
       "8             PUSKESMAS             32   UNIT   2018  \n",
       "9              POSYANDU           3551   UNIT   2018  "
      ]
     },
     "execution_count": 4,
     "metadata": {},
     "output_type": "execute_result"
    }
   ],
   "source": [
    "faskes.head(10)"
   ]
  },
  {
   "cell_type": "markdown",
   "id": "5e87137b",
   "metadata": {},
   "source": [
    "### Jumlah Kasus Campak di Jawa Barat"
   ]
  },
  {
   "cell_type": "markdown",
   "id": "83753738",
   "metadata": {},
   "source": [
    "tautan dataset : https://opendata.jabarprov.go.id/id/dataset/jumlah-kasus-penyakit-campak-berdasarkan-kabupatenkota-di-jawa-barat"
   ]
  },
  {
   "cell_type": "code",
   "execution_count": 5,
   "id": "66014376",
   "metadata": {},
   "outputs": [],
   "source": [
    "campak = pd.read_csv('content/Datasets/jml_kasus_penyakit_campak.csv')"
   ]
  },
  {
   "cell_type": "code",
   "execution_count": 6,
   "id": "4bd3eab3",
   "metadata": {},
   "outputs": [
    {
     "name": "stdout",
     "output_type": "stream",
     "text": [
      "<class 'pandas.core.frame.DataFrame'>\n",
      "RangeIndex: 162 entries, 0 to 161\n",
      "Data columns (total 8 columns):\n",
      " #   Column               Non-Null Count  Dtype \n",
      "---  ------               --------------  ----- \n",
      " 0   id                   162 non-null    int64 \n",
      " 1   kode_provinsi        162 non-null    int64 \n",
      " 2   nama_provinsi        162 non-null    object\n",
      " 3   kode_kabupaten_kota  162 non-null    int64 \n",
      " 4   nama_kabupaten_kota  162 non-null    object\n",
      " 5   jumlah_kasus         162 non-null    int64 \n",
      " 6   satuan               162 non-null    object\n",
      " 7   tahun                162 non-null    int64 \n",
      "dtypes: int64(5), object(3)\n",
      "memory usage: 10.2+ KB\n"
     ]
    }
   ],
   "source": [
    "# ringkasan isi dari dataframe campak\n",
    "campak.info()"
   ]
  },
  {
   "cell_type": "code",
   "execution_count": 7,
   "id": "e4cac7e3",
   "metadata": {},
   "outputs": [
    {
     "data": {
      "text/html": [
       "<div>\n",
       "<style scoped>\n",
       "    .dataframe tbody tr th:only-of-type {\n",
       "        vertical-align: middle;\n",
       "    }\n",
       "\n",
       "    .dataframe tbody tr th {\n",
       "        vertical-align: top;\n",
       "    }\n",
       "\n",
       "    .dataframe thead th {\n",
       "        text-align: right;\n",
       "    }\n",
       "</style>\n",
       "<table border=\"1\" class=\"dataframe\">\n",
       "  <thead>\n",
       "    <tr style=\"text-align: right;\">\n",
       "      <th></th>\n",
       "      <th>id</th>\n",
       "      <th>kode_provinsi</th>\n",
       "      <th>nama_provinsi</th>\n",
       "      <th>kode_kabupaten_kota</th>\n",
       "      <th>nama_kabupaten_kota</th>\n",
       "      <th>jumlah_kasus</th>\n",
       "      <th>satuan</th>\n",
       "      <th>tahun</th>\n",
       "    </tr>\n",
       "  </thead>\n",
       "  <tbody>\n",
       "    <tr>\n",
       "      <th>0</th>\n",
       "      <td>1</td>\n",
       "      <td>32</td>\n",
       "      <td>JAWA BARAT</td>\n",
       "      <td>3201</td>\n",
       "      <td>KABUPATEN BOGOR</td>\n",
       "      <td>9</td>\n",
       "      <td>ORANG</td>\n",
       "      <td>2018</td>\n",
       "    </tr>\n",
       "    <tr>\n",
       "      <th>1</th>\n",
       "      <td>2</td>\n",
       "      <td>32</td>\n",
       "      <td>JAWA BARAT</td>\n",
       "      <td>3202</td>\n",
       "      <td>KABUPATEN SUKABUMI</td>\n",
       "      <td>0</td>\n",
       "      <td>ORANG</td>\n",
       "      <td>2018</td>\n",
       "    </tr>\n",
       "    <tr>\n",
       "      <th>2</th>\n",
       "      <td>3</td>\n",
       "      <td>32</td>\n",
       "      <td>JAWA BARAT</td>\n",
       "      <td>3203</td>\n",
       "      <td>KABUPATEN CIANJUR</td>\n",
       "      <td>153</td>\n",
       "      <td>ORANG</td>\n",
       "      <td>2018</td>\n",
       "    </tr>\n",
       "    <tr>\n",
       "      <th>3</th>\n",
       "      <td>4</td>\n",
       "      <td>32</td>\n",
       "      <td>JAWA BARAT</td>\n",
       "      <td>3204</td>\n",
       "      <td>KABUPATEN BANDUNG</td>\n",
       "      <td>0</td>\n",
       "      <td>ORANG</td>\n",
       "      <td>2018</td>\n",
       "    </tr>\n",
       "    <tr>\n",
       "      <th>4</th>\n",
       "      <td>5</td>\n",
       "      <td>32</td>\n",
       "      <td>JAWA BARAT</td>\n",
       "      <td>3205</td>\n",
       "      <td>KABUPATEN GARUT</td>\n",
       "      <td>1</td>\n",
       "      <td>ORANG</td>\n",
       "      <td>2018</td>\n",
       "    </tr>\n",
       "    <tr>\n",
       "      <th>5</th>\n",
       "      <td>6</td>\n",
       "      <td>32</td>\n",
       "      <td>JAWA BARAT</td>\n",
       "      <td>3206</td>\n",
       "      <td>KABUPATEN TASIKMALAYA</td>\n",
       "      <td>2</td>\n",
       "      <td>ORANG</td>\n",
       "      <td>2018</td>\n",
       "    </tr>\n",
       "    <tr>\n",
       "      <th>6</th>\n",
       "      <td>7</td>\n",
       "      <td>32</td>\n",
       "      <td>JAWA BARAT</td>\n",
       "      <td>3207</td>\n",
       "      <td>KABUPATEN CIAMIS</td>\n",
       "      <td>2</td>\n",
       "      <td>ORANG</td>\n",
       "      <td>2018</td>\n",
       "    </tr>\n",
       "    <tr>\n",
       "      <th>7</th>\n",
       "      <td>8</td>\n",
       "      <td>32</td>\n",
       "      <td>JAWA BARAT</td>\n",
       "      <td>3208</td>\n",
       "      <td>KABUPATEN KUNINGAN</td>\n",
       "      <td>18</td>\n",
       "      <td>ORANG</td>\n",
       "      <td>2018</td>\n",
       "    </tr>\n",
       "    <tr>\n",
       "      <th>8</th>\n",
       "      <td>9</td>\n",
       "      <td>32</td>\n",
       "      <td>JAWA BARAT</td>\n",
       "      <td>3209</td>\n",
       "      <td>KABUPATEN CIREBON</td>\n",
       "      <td>92</td>\n",
       "      <td>ORANG</td>\n",
       "      <td>2018</td>\n",
       "    </tr>\n",
       "    <tr>\n",
       "      <th>9</th>\n",
       "      <td>10</td>\n",
       "      <td>32</td>\n",
       "      <td>JAWA BARAT</td>\n",
       "      <td>3210</td>\n",
       "      <td>KABUPATEN MAJALENGKA</td>\n",
       "      <td>2</td>\n",
       "      <td>ORANG</td>\n",
       "      <td>2018</td>\n",
       "    </tr>\n",
       "  </tbody>\n",
       "</table>\n",
       "</div>"
      ],
      "text/plain": [
       "   id  kode_provinsi nama_provinsi  kode_kabupaten_kota  \\\n",
       "0   1             32    JAWA BARAT                 3201   \n",
       "1   2             32    JAWA BARAT                 3202   \n",
       "2   3             32    JAWA BARAT                 3203   \n",
       "3   4             32    JAWA BARAT                 3204   \n",
       "4   5             32    JAWA BARAT                 3205   \n",
       "5   6             32    JAWA BARAT                 3206   \n",
       "6   7             32    JAWA BARAT                 3207   \n",
       "7   8             32    JAWA BARAT                 3208   \n",
       "8   9             32    JAWA BARAT                 3209   \n",
       "9  10             32    JAWA BARAT                 3210   \n",
       "\n",
       "     nama_kabupaten_kota  jumlah_kasus satuan  tahun  \n",
       "0        KABUPATEN BOGOR             9  ORANG   2018  \n",
       "1     KABUPATEN SUKABUMI             0  ORANG   2018  \n",
       "2      KABUPATEN CIANJUR           153  ORANG   2018  \n",
       "3      KABUPATEN BANDUNG             0  ORANG   2018  \n",
       "4        KABUPATEN GARUT             1  ORANG   2018  \n",
       "5  KABUPATEN TASIKMALAYA             2  ORANG   2018  \n",
       "6       KABUPATEN CIAMIS             2  ORANG   2018  \n",
       "7     KABUPATEN KUNINGAN            18  ORANG   2018  \n",
       "8      KABUPATEN CIREBON            92  ORANG   2018  \n",
       "9   KABUPATEN MAJALENGKA             2  ORANG   2018  "
      ]
     },
     "execution_count": 7,
     "metadata": {},
     "output_type": "execute_result"
    }
   ],
   "source": [
    "# 10 baris pertama dari dataFrame campak\n",
    "campak.head(10)"
   ]
  },
  {
   "cell_type": "markdown",
   "id": "62f0807b",
   "metadata": {},
   "source": [
    "### Jumlah Kasus HIV di Jawa Barat\n"
   ]
  },
  {
   "cell_type": "markdown",
   "id": "dc97c700",
   "metadata": {},
   "source": [
    "tautan dataset : https://opendata.jabarprov.go.id/id/dataset/jumlah-kasus-hiv-berdasarkan-kabupatenkota-di-jawa-barat"
   ]
  },
  {
   "cell_type": "code",
   "execution_count": 8,
   "id": "7764275e",
   "metadata": {},
   "outputs": [],
   "source": [
    "#jumlah kasus penyakit hiv\n",
    "hiv = pd.read_csv('content/Datasets/jml_kasus_hiv.csv')"
   ]
  },
  {
   "cell_type": "code",
   "execution_count": 9,
   "id": "ee312cf1",
   "metadata": {},
   "outputs": [
    {
     "name": "stdout",
     "output_type": "stream",
     "text": [
      "<class 'pandas.core.frame.DataFrame'>\n",
      "RangeIndex: 162 entries, 0 to 161\n",
      "Data columns (total 8 columns):\n",
      " #   Column               Non-Null Count  Dtype \n",
      "---  ------               --------------  ----- \n",
      " 0   id                   162 non-null    int64 \n",
      " 1   kode_provinsi        162 non-null    int64 \n",
      " 2   nama_provinsi        162 non-null    object\n",
      " 3   kode_kabupaten_kota  162 non-null    int64 \n",
      " 4   nama_kabupaten_kota  162 non-null    object\n",
      " 5   jumlah_kasus         162 non-null    int64 \n",
      " 6   satuan               162 non-null    object\n",
      " 7   tahun                162 non-null    int64 \n",
      "dtypes: int64(5), object(3)\n",
      "memory usage: 10.2+ KB\n"
     ]
    }
   ],
   "source": [
    "# ringkasan isi dari dataframe hiv\n",
    "hiv.info()"
   ]
  },
  {
   "cell_type": "code",
   "execution_count": 10,
   "id": "917470cb",
   "metadata": {},
   "outputs": [
    {
     "data": {
      "text/html": [
       "<div>\n",
       "<style scoped>\n",
       "    .dataframe tbody tr th:only-of-type {\n",
       "        vertical-align: middle;\n",
       "    }\n",
       "\n",
       "    .dataframe tbody tr th {\n",
       "        vertical-align: top;\n",
       "    }\n",
       "\n",
       "    .dataframe thead th {\n",
       "        text-align: right;\n",
       "    }\n",
       "</style>\n",
       "<table border=\"1\" class=\"dataframe\">\n",
       "  <thead>\n",
       "    <tr style=\"text-align: right;\">\n",
       "      <th></th>\n",
       "      <th>id</th>\n",
       "      <th>kode_provinsi</th>\n",
       "      <th>nama_provinsi</th>\n",
       "      <th>kode_kabupaten_kota</th>\n",
       "      <th>nama_kabupaten_kota</th>\n",
       "      <th>jumlah_kasus</th>\n",
       "      <th>satuan</th>\n",
       "      <th>tahun</th>\n",
       "    </tr>\n",
       "  </thead>\n",
       "  <tbody>\n",
       "    <tr>\n",
       "      <th>0</th>\n",
       "      <td>1</td>\n",
       "      <td>32</td>\n",
       "      <td>JAWA BARAT</td>\n",
       "      <td>3201</td>\n",
       "      <td>KABUPATEN BOGOR</td>\n",
       "      <td>318</td>\n",
       "      <td>ORANG</td>\n",
       "      <td>2018</td>\n",
       "    </tr>\n",
       "    <tr>\n",
       "      <th>1</th>\n",
       "      <td>2</td>\n",
       "      <td>32</td>\n",
       "      <td>JAWA BARAT</td>\n",
       "      <td>3202</td>\n",
       "      <td>KABUPATEN SUKABUMI</td>\n",
       "      <td>112</td>\n",
       "      <td>ORANG</td>\n",
       "      <td>2018</td>\n",
       "    </tr>\n",
       "    <tr>\n",
       "      <th>2</th>\n",
       "      <td>3</td>\n",
       "      <td>32</td>\n",
       "      <td>JAWA BARAT</td>\n",
       "      <td>3203</td>\n",
       "      <td>KABUPATEN CIANJUR</td>\n",
       "      <td>124</td>\n",
       "      <td>ORANG</td>\n",
       "      <td>2018</td>\n",
       "    </tr>\n",
       "    <tr>\n",
       "      <th>3</th>\n",
       "      <td>4</td>\n",
       "      <td>32</td>\n",
       "      <td>JAWA BARAT</td>\n",
       "      <td>3204</td>\n",
       "      <td>KABUPATEN BANDUNG</td>\n",
       "      <td>219</td>\n",
       "      <td>ORANG</td>\n",
       "      <td>2018</td>\n",
       "    </tr>\n",
       "    <tr>\n",
       "      <th>4</th>\n",
       "      <td>5</td>\n",
       "      <td>32</td>\n",
       "      <td>JAWA BARAT</td>\n",
       "      <td>3205</td>\n",
       "      <td>KABUPATEN GARUT</td>\n",
       "      <td>107</td>\n",
       "      <td>ORANG</td>\n",
       "      <td>2018</td>\n",
       "    </tr>\n",
       "    <tr>\n",
       "      <th>5</th>\n",
       "      <td>6</td>\n",
       "      <td>32</td>\n",
       "      <td>JAWA BARAT</td>\n",
       "      <td>3206</td>\n",
       "      <td>KABUPATEN TASIKMALAYA</td>\n",
       "      <td>40</td>\n",
       "      <td>ORANG</td>\n",
       "      <td>2018</td>\n",
       "    </tr>\n",
       "    <tr>\n",
       "      <th>6</th>\n",
       "      <td>7</td>\n",
       "      <td>32</td>\n",
       "      <td>JAWA BARAT</td>\n",
       "      <td>3207</td>\n",
       "      <td>KABUPATEN CIAMIS</td>\n",
       "      <td>66</td>\n",
       "      <td>ORANG</td>\n",
       "      <td>2018</td>\n",
       "    </tr>\n",
       "    <tr>\n",
       "      <th>7</th>\n",
       "      <td>8</td>\n",
       "      <td>32</td>\n",
       "      <td>JAWA BARAT</td>\n",
       "      <td>3208</td>\n",
       "      <td>KABUPATEN KUNINGAN</td>\n",
       "      <td>78</td>\n",
       "      <td>ORANG</td>\n",
       "      <td>2018</td>\n",
       "    </tr>\n",
       "    <tr>\n",
       "      <th>8</th>\n",
       "      <td>9</td>\n",
       "      <td>32</td>\n",
       "      <td>JAWA BARAT</td>\n",
       "      <td>3209</td>\n",
       "      <td>KABUPATEN CIREBON</td>\n",
       "      <td>278</td>\n",
       "      <td>ORANG</td>\n",
       "      <td>2018</td>\n",
       "    </tr>\n",
       "    <tr>\n",
       "      <th>9</th>\n",
       "      <td>10</td>\n",
       "      <td>32</td>\n",
       "      <td>JAWA BARAT</td>\n",
       "      <td>3210</td>\n",
       "      <td>KABUPATEN MAJALENGKA</td>\n",
       "      <td>92</td>\n",
       "      <td>ORANG</td>\n",
       "      <td>2018</td>\n",
       "    </tr>\n",
       "  </tbody>\n",
       "</table>\n",
       "</div>"
      ],
      "text/plain": [
       "   id  kode_provinsi nama_provinsi  kode_kabupaten_kota  \\\n",
       "0   1             32    JAWA BARAT                 3201   \n",
       "1   2             32    JAWA BARAT                 3202   \n",
       "2   3             32    JAWA BARAT                 3203   \n",
       "3   4             32    JAWA BARAT                 3204   \n",
       "4   5             32    JAWA BARAT                 3205   \n",
       "5   6             32    JAWA BARAT                 3206   \n",
       "6   7             32    JAWA BARAT                 3207   \n",
       "7   8             32    JAWA BARAT                 3208   \n",
       "8   9             32    JAWA BARAT                 3209   \n",
       "9  10             32    JAWA BARAT                 3210   \n",
       "\n",
       "     nama_kabupaten_kota  jumlah_kasus satuan  tahun  \n",
       "0        KABUPATEN BOGOR           318  ORANG   2018  \n",
       "1     KABUPATEN SUKABUMI           112  ORANG   2018  \n",
       "2      KABUPATEN CIANJUR           124  ORANG   2018  \n",
       "3      KABUPATEN BANDUNG           219  ORANG   2018  \n",
       "4        KABUPATEN GARUT           107  ORANG   2018  \n",
       "5  KABUPATEN TASIKMALAYA            40  ORANG   2018  \n",
       "6       KABUPATEN CIAMIS            66  ORANG   2018  \n",
       "7     KABUPATEN KUNINGAN            78  ORANG   2018  \n",
       "8      KABUPATEN CIREBON           278  ORANG   2018  \n",
       "9   KABUPATEN MAJALENGKA            92  ORANG   2018  "
      ]
     },
     "execution_count": 10,
     "metadata": {},
     "output_type": "execute_result"
    }
   ],
   "source": [
    "# 10 baris pertama dari dataFrame hiv\n",
    "hiv.head(10)"
   ]
  },
  {
   "cell_type": "markdown",
   "id": "a0a08d90",
   "metadata": {},
   "source": [
    "### Jumlah Kasus Diabetes di Jawa Barat\n"
   ]
  },
  {
   "cell_type": "markdown",
   "id": "c7c4e38f",
   "metadata": {},
   "source": [
    "tautan dataset : https://opendata.jabarprov.go.id/id/dataset/jumlah-penderita-diabetes-melitus-berdasarkan-kabupatenkota-di-jawa-barat"
   ]
  },
  {
   "cell_type": "code",
   "execution_count": 11,
   "id": "ab295e07",
   "metadata": {},
   "outputs": [],
   "source": [
    "#jumlah kasus penyakit diabetes\n",
    "diabetes = pd.read_csv('content/Datasets/jml_penderita_diabetes_melitus.csv')"
   ]
  },
  {
   "cell_type": "code",
   "execution_count": 12,
   "id": "fc5a54e0",
   "metadata": {},
   "outputs": [
    {
     "name": "stdout",
     "output_type": "stream",
     "text": [
      "<class 'pandas.core.frame.DataFrame'>\n",
      "RangeIndex: 216 entries, 0 to 215\n",
      "Data columns (total 8 columns):\n",
      " #   Column               Non-Null Count  Dtype \n",
      "---  ------               --------------  ----- \n",
      " 0   id                   216 non-null    int64 \n",
      " 1   kode_provinsi        216 non-null    int64 \n",
      " 2   nama_provinsi        216 non-null    object\n",
      " 3   kode_kabupaten_kota  216 non-null    int64 \n",
      " 4   nama_kabupaten_kota  216 non-null    object\n",
      " 5   jumlah_kasus         216 non-null    int64 \n",
      " 6   satuan               216 non-null    object\n",
      " 7   tahun                216 non-null    int64 \n",
      "dtypes: int64(5), object(3)\n",
      "memory usage: 13.6+ KB\n"
     ]
    }
   ],
   "source": [
    "# ringkasan isi dari dataframe Diabetes\n",
    "diabetes.info()"
   ]
  },
  {
   "cell_type": "code",
   "execution_count": 13,
   "id": "3b322fba",
   "metadata": {},
   "outputs": [
    {
     "data": {
      "text/html": [
       "<div>\n",
       "<style scoped>\n",
       "    .dataframe tbody tr th:only-of-type {\n",
       "        vertical-align: middle;\n",
       "    }\n",
       "\n",
       "    .dataframe tbody tr th {\n",
       "        vertical-align: top;\n",
       "    }\n",
       "\n",
       "    .dataframe thead th {\n",
       "        text-align: right;\n",
       "    }\n",
       "</style>\n",
       "<table border=\"1\" class=\"dataframe\">\n",
       "  <thead>\n",
       "    <tr style=\"text-align: right;\">\n",
       "      <th></th>\n",
       "      <th>id</th>\n",
       "      <th>kode_provinsi</th>\n",
       "      <th>nama_provinsi</th>\n",
       "      <th>kode_kabupaten_kota</th>\n",
       "      <th>nama_kabupaten_kota</th>\n",
       "      <th>jumlah_kasus</th>\n",
       "      <th>satuan</th>\n",
       "      <th>tahun</th>\n",
       "    </tr>\n",
       "  </thead>\n",
       "  <tbody>\n",
       "    <tr>\n",
       "      <th>0</th>\n",
       "      <td>1</td>\n",
       "      <td>32</td>\n",
       "      <td>JAWA BARAT</td>\n",
       "      <td>3201</td>\n",
       "      <td>KABUPATEN BOGOR</td>\n",
       "      <td>159405</td>\n",
       "      <td>ORANG</td>\n",
       "      <td>2016</td>\n",
       "    </tr>\n",
       "    <tr>\n",
       "      <th>1</th>\n",
       "      <td>2</td>\n",
       "      <td>32</td>\n",
       "      <td>JAWA BARAT</td>\n",
       "      <td>3202</td>\n",
       "      <td>KABUPATEN SUKABUMI</td>\n",
       "      <td>37369</td>\n",
       "      <td>ORANG</td>\n",
       "      <td>2016</td>\n",
       "    </tr>\n",
       "    <tr>\n",
       "      <th>2</th>\n",
       "      <td>3</td>\n",
       "      <td>32</td>\n",
       "      <td>JAWA BARAT</td>\n",
       "      <td>3203</td>\n",
       "      <td>KABUPATEN CIANJUR</td>\n",
       "      <td>41709</td>\n",
       "      <td>ORANG</td>\n",
       "      <td>2016</td>\n",
       "    </tr>\n",
       "    <tr>\n",
       "      <th>3</th>\n",
       "      <td>4</td>\n",
       "      <td>32</td>\n",
       "      <td>JAWA BARAT</td>\n",
       "      <td>3204</td>\n",
       "      <td>KABUPATEN BANDUNG</td>\n",
       "      <td>90337</td>\n",
       "      <td>ORANG</td>\n",
       "      <td>2016</td>\n",
       "    </tr>\n",
       "    <tr>\n",
       "      <th>4</th>\n",
       "      <td>5</td>\n",
       "      <td>32</td>\n",
       "      <td>JAWA BARAT</td>\n",
       "      <td>3205</td>\n",
       "      <td>KABUPATEN GARUT</td>\n",
       "      <td>96111</td>\n",
       "      <td>ORANG</td>\n",
       "      <td>2016</td>\n",
       "    </tr>\n",
       "    <tr>\n",
       "      <th>5</th>\n",
       "      <td>6</td>\n",
       "      <td>32</td>\n",
       "      <td>JAWA BARAT</td>\n",
       "      <td>3206</td>\n",
       "      <td>KABUPATEN TASIKMALAYA</td>\n",
       "      <td>25629</td>\n",
       "      <td>ORANG</td>\n",
       "      <td>2016</td>\n",
       "    </tr>\n",
       "    <tr>\n",
       "      <th>6</th>\n",
       "      <td>7</td>\n",
       "      <td>32</td>\n",
       "      <td>JAWA BARAT</td>\n",
       "      <td>3207</td>\n",
       "      <td>KABUPATEN CIAMIS</td>\n",
       "      <td>31254</td>\n",
       "      <td>ORANG</td>\n",
       "      <td>2016</td>\n",
       "    </tr>\n",
       "    <tr>\n",
       "      <th>7</th>\n",
       "      <td>8</td>\n",
       "      <td>32</td>\n",
       "      <td>JAWA BARAT</td>\n",
       "      <td>3208</td>\n",
       "      <td>KABUPATEN KUNINGAN</td>\n",
       "      <td>26554</td>\n",
       "      <td>ORANG</td>\n",
       "      <td>2016</td>\n",
       "    </tr>\n",
       "    <tr>\n",
       "      <th>8</th>\n",
       "      <td>9</td>\n",
       "      <td>32</td>\n",
       "      <td>JAWA BARAT</td>\n",
       "      <td>3209</td>\n",
       "      <td>KABUPATEN CIREBON</td>\n",
       "      <td>74674</td>\n",
       "      <td>ORANG</td>\n",
       "      <td>2016</td>\n",
       "    </tr>\n",
       "    <tr>\n",
       "      <th>9</th>\n",
       "      <td>10</td>\n",
       "      <td>32</td>\n",
       "      <td>JAWA BARAT</td>\n",
       "      <td>3210</td>\n",
       "      <td>KABUPATEN MAJALENGKA</td>\n",
       "      <td>19976</td>\n",
       "      <td>ORANG</td>\n",
       "      <td>2016</td>\n",
       "    </tr>\n",
       "  </tbody>\n",
       "</table>\n",
       "</div>"
      ],
      "text/plain": [
       "   id  kode_provinsi nama_provinsi  kode_kabupaten_kota  \\\n",
       "0   1             32    JAWA BARAT                 3201   \n",
       "1   2             32    JAWA BARAT                 3202   \n",
       "2   3             32    JAWA BARAT                 3203   \n",
       "3   4             32    JAWA BARAT                 3204   \n",
       "4   5             32    JAWA BARAT                 3205   \n",
       "5   6             32    JAWA BARAT                 3206   \n",
       "6   7             32    JAWA BARAT                 3207   \n",
       "7   8             32    JAWA BARAT                 3208   \n",
       "8   9             32    JAWA BARAT                 3209   \n",
       "9  10             32    JAWA BARAT                 3210   \n",
       "\n",
       "     nama_kabupaten_kota  jumlah_kasus satuan  tahun  \n",
       "0        KABUPATEN BOGOR        159405  ORANG   2016  \n",
       "1     KABUPATEN SUKABUMI         37369  ORANG   2016  \n",
       "2      KABUPATEN CIANJUR         41709  ORANG   2016  \n",
       "3      KABUPATEN BANDUNG         90337  ORANG   2016  \n",
       "4        KABUPATEN GARUT         96111  ORANG   2016  \n",
       "5  KABUPATEN TASIKMALAYA         25629  ORANG   2016  \n",
       "6       KABUPATEN CIAMIS         31254  ORANG   2016  \n",
       "7     KABUPATEN KUNINGAN         26554  ORANG   2016  \n",
       "8      KABUPATEN CIREBON         74674  ORANG   2016  \n",
       "9   KABUPATEN MAJALENGKA         19976  ORANG   2016  "
      ]
     },
     "execution_count": 13,
     "metadata": {},
     "output_type": "execute_result"
    }
   ],
   "source": [
    "# 10 baris pertama dari dataFrame Diabetes\n",
    "diabetes.head(10)"
   ]
  },
  {
   "cell_type": "markdown",
   "id": "7e278ad1",
   "metadata": {},
   "source": [
    "### Jumlah Kasus Tuberkulosis di Jawa Barat"
   ]
  },
  {
   "cell_type": "markdown",
   "id": "5fb40baf",
   "metadata": {},
   "source": [
    "tautan dataset : https://opendata.jabarprov.go.id/id/dataset/jumlah-kasus-penyakit-tuberkulosis-berdasarkan-kabupatenkota-di-jawa-barat"
   ]
  },
  {
   "cell_type": "code",
   "execution_count": 14,
   "id": "f52ad008",
   "metadata": {},
   "outputs": [],
   "source": [
    "#jumlah kasus penyakit tuberkulosis\n",
    "tuberkulosis = pd.read_csv('content/Datasets/jml_kasus_penyakit_tuberkulosis.csv')"
   ]
  },
  {
   "cell_type": "code",
   "execution_count": 15,
   "id": "677d0f25",
   "metadata": {},
   "outputs": [
    {
     "name": "stdout",
     "output_type": "stream",
     "text": [
      "<class 'pandas.core.frame.DataFrame'>\n",
      "RangeIndex: 216 entries, 0 to 215\n",
      "Data columns (total 8 columns):\n",
      " #   Column               Non-Null Count  Dtype \n",
      "---  ------               --------------  ----- \n",
      " 0   id                   216 non-null    int64 \n",
      " 1   kode_provinsi        216 non-null    int64 \n",
      " 2   nama_provinsi        216 non-null    object\n",
      " 3   kode_kabupaten_kota  216 non-null    int64 \n",
      " 4   nama_kabupaten_kota  216 non-null    object\n",
      " 5   jumlah_kasus         216 non-null    int64 \n",
      " 6   satuan               216 non-null    object\n",
      " 7   tahun                216 non-null    int64 \n",
      "dtypes: int64(5), object(3)\n",
      "memory usage: 13.6+ KB\n"
     ]
    }
   ],
   "source": [
    "# ringkasan isi dari dataframe Tuberkulosis\n",
    "tuberkulosis.info()"
   ]
  },
  {
   "cell_type": "code",
   "execution_count": 16,
   "id": "9a7b2199",
   "metadata": {},
   "outputs": [
    {
     "data": {
      "text/html": [
       "<div>\n",
       "<style scoped>\n",
       "    .dataframe tbody tr th:only-of-type {\n",
       "        vertical-align: middle;\n",
       "    }\n",
       "\n",
       "    .dataframe tbody tr th {\n",
       "        vertical-align: top;\n",
       "    }\n",
       "\n",
       "    .dataframe thead th {\n",
       "        text-align: right;\n",
       "    }\n",
       "</style>\n",
       "<table border=\"1\" class=\"dataframe\">\n",
       "  <thead>\n",
       "    <tr style=\"text-align: right;\">\n",
       "      <th></th>\n",
       "      <th>id</th>\n",
       "      <th>kode_provinsi</th>\n",
       "      <th>nama_provinsi</th>\n",
       "      <th>kode_kabupaten_kota</th>\n",
       "      <th>nama_kabupaten_kota</th>\n",
       "      <th>jumlah_kasus</th>\n",
       "      <th>satuan</th>\n",
       "      <th>tahun</th>\n",
       "    </tr>\n",
       "  </thead>\n",
       "  <tbody>\n",
       "    <tr>\n",
       "      <th>0</th>\n",
       "      <td>1</td>\n",
       "      <td>32</td>\n",
       "      <td>JAWA BARAT</td>\n",
       "      <td>3201</td>\n",
       "      <td>KABUPATEN BOGOR</td>\n",
       "      <td>8444</td>\n",
       "      <td>ORANG</td>\n",
       "      <td>2016</td>\n",
       "    </tr>\n",
       "    <tr>\n",
       "      <th>1</th>\n",
       "      <td>2</td>\n",
       "      <td>32</td>\n",
       "      <td>JAWA BARAT</td>\n",
       "      <td>3202</td>\n",
       "      <td>KABUPATEN SUKABUMI</td>\n",
       "      <td>3191</td>\n",
       "      <td>ORANG</td>\n",
       "      <td>2016</td>\n",
       "    </tr>\n",
       "    <tr>\n",
       "      <th>2</th>\n",
       "      <td>3</td>\n",
       "      <td>32</td>\n",
       "      <td>JAWA BARAT</td>\n",
       "      <td>3203</td>\n",
       "      <td>KABUPATEN CIANJUR</td>\n",
       "      <td>3010</td>\n",
       "      <td>ORANG</td>\n",
       "      <td>2016</td>\n",
       "    </tr>\n",
       "    <tr>\n",
       "      <th>3</th>\n",
       "      <td>4</td>\n",
       "      <td>32</td>\n",
       "      <td>JAWA BARAT</td>\n",
       "      <td>3204</td>\n",
       "      <td>KABUPATEN BANDUNG</td>\n",
       "      <td>5202</td>\n",
       "      <td>ORANG</td>\n",
       "      <td>2016</td>\n",
       "    </tr>\n",
       "    <tr>\n",
       "      <th>4</th>\n",
       "      <td>5</td>\n",
       "      <td>32</td>\n",
       "      <td>JAWA BARAT</td>\n",
       "      <td>3205</td>\n",
       "      <td>KABUPATEN GARUT</td>\n",
       "      <td>2711</td>\n",
       "      <td>ORANG</td>\n",
       "      <td>2016</td>\n",
       "    </tr>\n",
       "    <tr>\n",
       "      <th>5</th>\n",
       "      <td>6</td>\n",
       "      <td>32</td>\n",
       "      <td>JAWA BARAT</td>\n",
       "      <td>3206</td>\n",
       "      <td>KABUPATEN TASIKMALAYA</td>\n",
       "      <td>1683</td>\n",
       "      <td>ORANG</td>\n",
       "      <td>2016</td>\n",
       "    </tr>\n",
       "    <tr>\n",
       "      <th>6</th>\n",
       "      <td>7</td>\n",
       "      <td>32</td>\n",
       "      <td>JAWA BARAT</td>\n",
       "      <td>3207</td>\n",
       "      <td>KABUPATEN CIAMIS</td>\n",
       "      <td>1354</td>\n",
       "      <td>ORANG</td>\n",
       "      <td>2016</td>\n",
       "    </tr>\n",
       "    <tr>\n",
       "      <th>7</th>\n",
       "      <td>8</td>\n",
       "      <td>32</td>\n",
       "      <td>JAWA BARAT</td>\n",
       "      <td>3208</td>\n",
       "      <td>KABUPATEN KUNINGAN</td>\n",
       "      <td>2060</td>\n",
       "      <td>ORANG</td>\n",
       "      <td>2016</td>\n",
       "    </tr>\n",
       "    <tr>\n",
       "      <th>8</th>\n",
       "      <td>9</td>\n",
       "      <td>32</td>\n",
       "      <td>JAWA BARAT</td>\n",
       "      <td>3209</td>\n",
       "      <td>KABUPATEN CIREBON</td>\n",
       "      <td>3172</td>\n",
       "      <td>ORANG</td>\n",
       "      <td>2016</td>\n",
       "    </tr>\n",
       "    <tr>\n",
       "      <th>9</th>\n",
       "      <td>10</td>\n",
       "      <td>32</td>\n",
       "      <td>JAWA BARAT</td>\n",
       "      <td>3210</td>\n",
       "      <td>KABUPATEN MAJALENGKA</td>\n",
       "      <td>1583</td>\n",
       "      <td>ORANG</td>\n",
       "      <td>2016</td>\n",
       "    </tr>\n",
       "  </tbody>\n",
       "</table>\n",
       "</div>"
      ],
      "text/plain": [
       "   id  kode_provinsi nama_provinsi  kode_kabupaten_kota  \\\n",
       "0   1             32    JAWA BARAT                 3201   \n",
       "1   2             32    JAWA BARAT                 3202   \n",
       "2   3             32    JAWA BARAT                 3203   \n",
       "3   4             32    JAWA BARAT                 3204   \n",
       "4   5             32    JAWA BARAT                 3205   \n",
       "5   6             32    JAWA BARAT                 3206   \n",
       "6   7             32    JAWA BARAT                 3207   \n",
       "7   8             32    JAWA BARAT                 3208   \n",
       "8   9             32    JAWA BARAT                 3209   \n",
       "9  10             32    JAWA BARAT                 3210   \n",
       "\n",
       "     nama_kabupaten_kota  jumlah_kasus satuan  tahun  \n",
       "0        KABUPATEN BOGOR          8444  ORANG   2016  \n",
       "1     KABUPATEN SUKABUMI          3191  ORANG   2016  \n",
       "2      KABUPATEN CIANJUR          3010  ORANG   2016  \n",
       "3      KABUPATEN BANDUNG          5202  ORANG   2016  \n",
       "4        KABUPATEN GARUT          2711  ORANG   2016  \n",
       "5  KABUPATEN TASIKMALAYA          1683  ORANG   2016  \n",
       "6       KABUPATEN CIAMIS          1354  ORANG   2016  \n",
       "7     KABUPATEN KUNINGAN          2060  ORANG   2016  \n",
       "8      KABUPATEN CIREBON          3172  ORANG   2016  \n",
       "9   KABUPATEN MAJALENGKA          1583  ORANG   2016  "
      ]
     },
     "execution_count": 16,
     "metadata": {},
     "output_type": "execute_result"
    }
   ],
   "source": [
    "# 10 baris pertama dari dataFrame Tuberkulosis\n",
    "tuberkulosis.head(10)"
   ]
  },
  {
   "cell_type": "markdown",
   "id": "94d93c71",
   "metadata": {},
   "source": [
    "## Jumlah Kasus Diare di Jawa Barat"
   ]
  },
  {
   "cell_type": "markdown",
   "id": "7ff8f037",
   "metadata": {},
   "source": [
    "tautan dataset : https://opendata.jabarprov.go.id/id/dataset/jumlah-kasus-penyakit-diare-berdasarkan-kabupatenkota-di-jawa-barat"
   ]
  },
  {
   "cell_type": "code",
   "execution_count": 17,
   "id": "1f3a0910",
   "metadata": {},
   "outputs": [],
   "source": [
    "diare = pd.read_csv(\"content/Datasets/jml_kasus_penyakit_diare.csv\")"
   ]
  },
  {
   "cell_type": "code",
   "execution_count": 18,
   "id": "57c459d8",
   "metadata": {},
   "outputs": [
    {
     "name": "stdout",
     "output_type": "stream",
     "text": [
      "<class 'pandas.core.frame.DataFrame'>\n",
      "RangeIndex: 216 entries, 0 to 215\n",
      "Data columns (total 8 columns):\n",
      " #   Column               Non-Null Count  Dtype \n",
      "---  ------               --------------  ----- \n",
      " 0   id                   216 non-null    int64 \n",
      " 1   kode_provinsi        216 non-null    int64 \n",
      " 2   nama_provinsi        216 non-null    object\n",
      " 3   kode_kabupaten_kota  216 non-null    int64 \n",
      " 4   nama_kabupaten_kota  216 non-null    object\n",
      " 5   jumlah_kasus         216 non-null    int64 \n",
      " 6   satuan               216 non-null    object\n",
      " 7   tahun                216 non-null    int64 \n",
      "dtypes: int64(5), object(3)\n",
      "memory usage: 13.6+ KB\n"
     ]
    }
   ],
   "source": [
    "diare.info()"
   ]
  },
  {
   "cell_type": "code",
   "execution_count": 19,
   "id": "a70571ef",
   "metadata": {},
   "outputs": [
    {
     "data": {
      "text/html": [
       "<div>\n",
       "<style scoped>\n",
       "    .dataframe tbody tr th:only-of-type {\n",
       "        vertical-align: middle;\n",
       "    }\n",
       "\n",
       "    .dataframe tbody tr th {\n",
       "        vertical-align: top;\n",
       "    }\n",
       "\n",
       "    .dataframe thead th {\n",
       "        text-align: right;\n",
       "    }\n",
       "</style>\n",
       "<table border=\"1\" class=\"dataframe\">\n",
       "  <thead>\n",
       "    <tr style=\"text-align: right;\">\n",
       "      <th></th>\n",
       "      <th>id</th>\n",
       "      <th>kode_provinsi</th>\n",
       "      <th>nama_provinsi</th>\n",
       "      <th>kode_kabupaten_kota</th>\n",
       "      <th>nama_kabupaten_kota</th>\n",
       "      <th>jumlah_kasus</th>\n",
       "      <th>satuan</th>\n",
       "      <th>tahun</th>\n",
       "    </tr>\n",
       "  </thead>\n",
       "  <tbody>\n",
       "    <tr>\n",
       "      <th>0</th>\n",
       "      <td>1</td>\n",
       "      <td>32</td>\n",
       "      <td>JAWA BARAT</td>\n",
       "      <td>3201</td>\n",
       "      <td>KABUPATEN BOGOR</td>\n",
       "      <td>159405</td>\n",
       "      <td>ORANG</td>\n",
       "      <td>2016</td>\n",
       "    </tr>\n",
       "    <tr>\n",
       "      <th>1</th>\n",
       "      <td>2</td>\n",
       "      <td>32</td>\n",
       "      <td>JAWA BARAT</td>\n",
       "      <td>3202</td>\n",
       "      <td>KABUPATEN SUKABUMI</td>\n",
       "      <td>37369</td>\n",
       "      <td>ORANG</td>\n",
       "      <td>2016</td>\n",
       "    </tr>\n",
       "    <tr>\n",
       "      <th>2</th>\n",
       "      <td>3</td>\n",
       "      <td>32</td>\n",
       "      <td>JAWA BARAT</td>\n",
       "      <td>3203</td>\n",
       "      <td>KABUPATEN CIANJUR</td>\n",
       "      <td>41709</td>\n",
       "      <td>ORANG</td>\n",
       "      <td>2016</td>\n",
       "    </tr>\n",
       "    <tr>\n",
       "      <th>3</th>\n",
       "      <td>4</td>\n",
       "      <td>32</td>\n",
       "      <td>JAWA BARAT</td>\n",
       "      <td>3204</td>\n",
       "      <td>KABUPATEN BANDUNG</td>\n",
       "      <td>90337</td>\n",
       "      <td>ORANG</td>\n",
       "      <td>2016</td>\n",
       "    </tr>\n",
       "    <tr>\n",
       "      <th>4</th>\n",
       "      <td>5</td>\n",
       "      <td>32</td>\n",
       "      <td>JAWA BARAT</td>\n",
       "      <td>3205</td>\n",
       "      <td>KABUPATEN GARUT</td>\n",
       "      <td>96111</td>\n",
       "      <td>ORANG</td>\n",
       "      <td>2016</td>\n",
       "    </tr>\n",
       "    <tr>\n",
       "      <th>5</th>\n",
       "      <td>6</td>\n",
       "      <td>32</td>\n",
       "      <td>JAWA BARAT</td>\n",
       "      <td>3206</td>\n",
       "      <td>KABUPATEN TASIKMALAYA</td>\n",
       "      <td>25629</td>\n",
       "      <td>ORANG</td>\n",
       "      <td>2016</td>\n",
       "    </tr>\n",
       "    <tr>\n",
       "      <th>6</th>\n",
       "      <td>7</td>\n",
       "      <td>32</td>\n",
       "      <td>JAWA BARAT</td>\n",
       "      <td>3207</td>\n",
       "      <td>KABUPATEN CIAMIS</td>\n",
       "      <td>31254</td>\n",
       "      <td>ORANG</td>\n",
       "      <td>2016</td>\n",
       "    </tr>\n",
       "    <tr>\n",
       "      <th>7</th>\n",
       "      <td>8</td>\n",
       "      <td>32</td>\n",
       "      <td>JAWA BARAT</td>\n",
       "      <td>3208</td>\n",
       "      <td>KABUPATEN KUNINGAN</td>\n",
       "      <td>26554</td>\n",
       "      <td>ORANG</td>\n",
       "      <td>2016</td>\n",
       "    </tr>\n",
       "    <tr>\n",
       "      <th>8</th>\n",
       "      <td>9</td>\n",
       "      <td>32</td>\n",
       "      <td>JAWA BARAT</td>\n",
       "      <td>3209</td>\n",
       "      <td>KABUPATEN CIREBON</td>\n",
       "      <td>74674</td>\n",
       "      <td>ORANG</td>\n",
       "      <td>2016</td>\n",
       "    </tr>\n",
       "    <tr>\n",
       "      <th>9</th>\n",
       "      <td>10</td>\n",
       "      <td>32</td>\n",
       "      <td>JAWA BARAT</td>\n",
       "      <td>3210</td>\n",
       "      <td>KABUPATEN MAJALENGKA</td>\n",
       "      <td>19976</td>\n",
       "      <td>ORANG</td>\n",
       "      <td>2016</td>\n",
       "    </tr>\n",
       "  </tbody>\n",
       "</table>\n",
       "</div>"
      ],
      "text/plain": [
       "   id  kode_provinsi nama_provinsi  kode_kabupaten_kota  \\\n",
       "0   1             32    JAWA BARAT                 3201   \n",
       "1   2             32    JAWA BARAT                 3202   \n",
       "2   3             32    JAWA BARAT                 3203   \n",
       "3   4             32    JAWA BARAT                 3204   \n",
       "4   5             32    JAWA BARAT                 3205   \n",
       "5   6             32    JAWA BARAT                 3206   \n",
       "6   7             32    JAWA BARAT                 3207   \n",
       "7   8             32    JAWA BARAT                 3208   \n",
       "8   9             32    JAWA BARAT                 3209   \n",
       "9  10             32    JAWA BARAT                 3210   \n",
       "\n",
       "     nama_kabupaten_kota  jumlah_kasus satuan  tahun  \n",
       "0        KABUPATEN BOGOR        159405  ORANG   2016  \n",
       "1     KABUPATEN SUKABUMI         37369  ORANG   2016  \n",
       "2      KABUPATEN CIANJUR         41709  ORANG   2016  \n",
       "3      KABUPATEN BANDUNG         90337  ORANG   2016  \n",
       "4        KABUPATEN GARUT         96111  ORANG   2016  \n",
       "5  KABUPATEN TASIKMALAYA         25629  ORANG   2016  \n",
       "6       KABUPATEN CIAMIS         31254  ORANG   2016  \n",
       "7     KABUPATEN KUNINGAN         26554  ORANG   2016  \n",
       "8      KABUPATEN CIREBON         74674  ORANG   2016  \n",
       "9   KABUPATEN MAJALENGKA         19976  ORANG   2016  "
      ]
     },
     "execution_count": 19,
     "metadata": {},
     "output_type": "execute_result"
    }
   ],
   "source": [
    "diare.head(10)"
   ]
  },
  {
   "cell_type": "markdown",
   "id": "8d17a9d4",
   "metadata": {},
   "source": [
    "### Jumlah Kasus Pneumonia di Jawa Barat"
   ]
  },
  {
   "cell_type": "markdown",
   "id": "92c30a86",
   "metadata": {},
   "source": [
    "tautan dataset : https://opendata.jabarprov.go.id/id/dataset/jumlah-kasus-penyakit-pneumonia-berdasarkan-kabupatenkota-di-jawa-barat"
   ]
  },
  {
   "cell_type": "code",
   "execution_count": 20,
   "id": "f6377828",
   "metadata": {},
   "outputs": [],
   "source": [
    "#jumlah kasus penyakit pneumonia\n",
    "pneumonia = pd.read_csv('content/Datasets/jml_kasus_penyakit_pneumonia.csv')"
   ]
  },
  {
   "cell_type": "code",
   "execution_count": 21,
   "id": "de9e1082",
   "metadata": {},
   "outputs": [
    {
     "name": "stdout",
     "output_type": "stream",
     "text": [
      "<class 'pandas.core.frame.DataFrame'>\n",
      "RangeIndex: 135 entries, 0 to 134\n",
      "Data columns (total 8 columns):\n",
      " #   Column               Non-Null Count  Dtype \n",
      "---  ------               --------------  ----- \n",
      " 0   id                   135 non-null    int64 \n",
      " 1   kode_provinsi        135 non-null    int64 \n",
      " 2   nama_provinsi        135 non-null    object\n",
      " 3   kode_kabupaten_kota  135 non-null    int64 \n",
      " 4   nama_kabupaten_kota  135 non-null    object\n",
      " 5   jumlah_kasus         135 non-null    int64 \n",
      " 6   satuan               135 non-null    object\n",
      " 7   tahun                135 non-null    int64 \n",
      "dtypes: int64(5), object(3)\n",
      "memory usage: 8.6+ KB\n"
     ]
    }
   ],
   "source": [
    "# ringkasan isi dari dataframe Pneumonia\n",
    "pneumonia.info()"
   ]
  },
  {
   "cell_type": "code",
   "execution_count": 22,
   "id": "32e97f53",
   "metadata": {},
   "outputs": [
    {
     "data": {
      "text/html": [
       "<div>\n",
       "<style scoped>\n",
       "    .dataframe tbody tr th:only-of-type {\n",
       "        vertical-align: middle;\n",
       "    }\n",
       "\n",
       "    .dataframe tbody tr th {\n",
       "        vertical-align: top;\n",
       "    }\n",
       "\n",
       "    .dataframe thead th {\n",
       "        text-align: right;\n",
       "    }\n",
       "</style>\n",
       "<table border=\"1\" class=\"dataframe\">\n",
       "  <thead>\n",
       "    <tr style=\"text-align: right;\">\n",
       "      <th></th>\n",
       "      <th>id</th>\n",
       "      <th>kode_provinsi</th>\n",
       "      <th>nama_provinsi</th>\n",
       "      <th>kode_kabupaten_kota</th>\n",
       "      <th>nama_kabupaten_kota</th>\n",
       "      <th>jumlah_kasus</th>\n",
       "      <th>satuan</th>\n",
       "      <th>tahun</th>\n",
       "    </tr>\n",
       "  </thead>\n",
       "  <tbody>\n",
       "    <tr>\n",
       "      <th>0</th>\n",
       "      <td>1</td>\n",
       "      <td>32</td>\n",
       "      <td>JAWA BARAT</td>\n",
       "      <td>3201</td>\n",
       "      <td>KABUPATEN BOGOR</td>\n",
       "      <td>7325</td>\n",
       "      <td>ORANG</td>\n",
       "      <td>2019</td>\n",
       "    </tr>\n",
       "    <tr>\n",
       "      <th>1</th>\n",
       "      <td>2</td>\n",
       "      <td>32</td>\n",
       "      <td>JAWA BARAT</td>\n",
       "      <td>3202</td>\n",
       "      <td>KABUPATEN SUKABUMI</td>\n",
       "      <td>4906</td>\n",
       "      <td>ORANG</td>\n",
       "      <td>2019</td>\n",
       "    </tr>\n",
       "    <tr>\n",
       "      <th>2</th>\n",
       "      <td>3</td>\n",
       "      <td>32</td>\n",
       "      <td>JAWA BARAT</td>\n",
       "      <td>3203</td>\n",
       "      <td>KABUPATEN CIANJUR</td>\n",
       "      <td>4290</td>\n",
       "      <td>ORANG</td>\n",
       "      <td>2019</td>\n",
       "    </tr>\n",
       "    <tr>\n",
       "      <th>3</th>\n",
       "      <td>4</td>\n",
       "      <td>32</td>\n",
       "      <td>JAWA BARAT</td>\n",
       "      <td>3204</td>\n",
       "      <td>KABUPATEN BANDUNG</td>\n",
       "      <td>8349</td>\n",
       "      <td>ORANG</td>\n",
       "      <td>2019</td>\n",
       "    </tr>\n",
       "    <tr>\n",
       "      <th>4</th>\n",
       "      <td>5</td>\n",
       "      <td>32</td>\n",
       "      <td>JAWA BARAT</td>\n",
       "      <td>3205</td>\n",
       "      <td>KABUPATEN GARUT</td>\n",
       "      <td>8374</td>\n",
       "      <td>ORANG</td>\n",
       "      <td>2019</td>\n",
       "    </tr>\n",
       "    <tr>\n",
       "      <th>5</th>\n",
       "      <td>6</td>\n",
       "      <td>32</td>\n",
       "      <td>JAWA BARAT</td>\n",
       "      <td>3206</td>\n",
       "      <td>KABUPATEN TASIKMALAYA</td>\n",
       "      <td>3902</td>\n",
       "      <td>ORANG</td>\n",
       "      <td>2019</td>\n",
       "    </tr>\n",
       "    <tr>\n",
       "      <th>6</th>\n",
       "      <td>7</td>\n",
       "      <td>32</td>\n",
       "      <td>JAWA BARAT</td>\n",
       "      <td>3207</td>\n",
       "      <td>KABUPATEN CIAMIS</td>\n",
       "      <td>5072</td>\n",
       "      <td>ORANG</td>\n",
       "      <td>2019</td>\n",
       "    </tr>\n",
       "    <tr>\n",
       "      <th>7</th>\n",
       "      <td>8</td>\n",
       "      <td>32</td>\n",
       "      <td>JAWA BARAT</td>\n",
       "      <td>3208</td>\n",
       "      <td>KABUPATEN KUNINGAN</td>\n",
       "      <td>2277</td>\n",
       "      <td>ORANG</td>\n",
       "      <td>2019</td>\n",
       "    </tr>\n",
       "    <tr>\n",
       "      <th>8</th>\n",
       "      <td>9</td>\n",
       "      <td>32</td>\n",
       "      <td>JAWA BARAT</td>\n",
       "      <td>3209</td>\n",
       "      <td>KABUPATEN CIREBON</td>\n",
       "      <td>10818</td>\n",
       "      <td>ORANG</td>\n",
       "      <td>2019</td>\n",
       "    </tr>\n",
       "    <tr>\n",
       "      <th>9</th>\n",
       "      <td>10</td>\n",
       "      <td>32</td>\n",
       "      <td>JAWA BARAT</td>\n",
       "      <td>3210</td>\n",
       "      <td>KABUPATEN MAJALENGKA</td>\n",
       "      <td>4677</td>\n",
       "      <td>ORANG</td>\n",
       "      <td>2019</td>\n",
       "    </tr>\n",
       "  </tbody>\n",
       "</table>\n",
       "</div>"
      ],
      "text/plain": [
       "   id  kode_provinsi nama_provinsi  kode_kabupaten_kota  \\\n",
       "0   1             32    JAWA BARAT                 3201   \n",
       "1   2             32    JAWA BARAT                 3202   \n",
       "2   3             32    JAWA BARAT                 3203   \n",
       "3   4             32    JAWA BARAT                 3204   \n",
       "4   5             32    JAWA BARAT                 3205   \n",
       "5   6             32    JAWA BARAT                 3206   \n",
       "6   7             32    JAWA BARAT                 3207   \n",
       "7   8             32    JAWA BARAT                 3208   \n",
       "8   9             32    JAWA BARAT                 3209   \n",
       "9  10             32    JAWA BARAT                 3210   \n",
       "\n",
       "     nama_kabupaten_kota  jumlah_kasus satuan  tahun  \n",
       "0        KABUPATEN BOGOR          7325  ORANG   2019  \n",
       "1     KABUPATEN SUKABUMI          4906  ORANG   2019  \n",
       "2      KABUPATEN CIANJUR          4290  ORANG   2019  \n",
       "3      KABUPATEN BANDUNG          8349  ORANG   2019  \n",
       "4        KABUPATEN GARUT          8374  ORANG   2019  \n",
       "5  KABUPATEN TASIKMALAYA          3902  ORANG   2019  \n",
       "6       KABUPATEN CIAMIS          5072  ORANG   2019  \n",
       "7     KABUPATEN KUNINGAN          2277  ORANG   2019  \n",
       "8      KABUPATEN CIREBON         10818  ORANG   2019  \n",
       "9   KABUPATEN MAJALENGKA          4677  ORANG   2019  "
      ]
     },
     "execution_count": 22,
     "metadata": {},
     "output_type": "execute_result"
    }
   ],
   "source": [
    "# 10 baris pertama dari dataFrame Pneumonia\n",
    "pneumonia.head(10)"
   ]
  },
  {
   "cell_type": "markdown",
   "id": "55be4e77",
   "metadata": {},
   "source": [
    "### Jumlah Kasus Tetanus di Jawa Barat"
   ]
  },
  {
   "cell_type": "markdown",
   "id": "7d98e54b",
   "metadata": {},
   "source": [
    "tautan dataset : https://opendata.jabarprov.go.id/id/dataset/jumlah-kasus-penyakit-tetanus-berdasarkan-kabupatenkota-di-jawa-barat"
   ]
  },
  {
   "cell_type": "code",
   "execution_count": 23,
   "id": "bda3ed83",
   "metadata": {},
   "outputs": [],
   "source": [
    "#jumlah kasus penyakit tetanus\n",
    "tetanus = pd.read_csv('content/Datasets/jml_kasus_penyakit_tetanus.csv')"
   ]
  },
  {
   "cell_type": "code",
   "execution_count": 24,
   "id": "61e6b674",
   "metadata": {},
   "outputs": [
    {
     "name": "stdout",
     "output_type": "stream",
     "text": [
      "<class 'pandas.core.frame.DataFrame'>\n",
      "RangeIndex: 216 entries, 0 to 215\n",
      "Data columns (total 8 columns):\n",
      " #   Column               Non-Null Count  Dtype \n",
      "---  ------               --------------  ----- \n",
      " 0   id                   216 non-null    int64 \n",
      " 1   kode_provinsi        216 non-null    int64 \n",
      " 2   nama_provinsi        216 non-null    object\n",
      " 3   kode_kabupaten_kota  216 non-null    int64 \n",
      " 4   nama_kabupaten_kota  216 non-null    object\n",
      " 5   jumlah_kasus         216 non-null    int64 \n",
      " 6   satuan               216 non-null    object\n",
      " 7   tahun                216 non-null    int64 \n",
      "dtypes: int64(5), object(3)\n",
      "memory usage: 13.6+ KB\n"
     ]
    }
   ],
   "source": [
    "# ringkasan isi dari dataframe Tetanus\n",
    "tetanus.info()"
   ]
  },
  {
   "cell_type": "code",
   "execution_count": 25,
   "id": "17d8d2ab",
   "metadata": {},
   "outputs": [
    {
     "data": {
      "text/html": [
       "<div>\n",
       "<style scoped>\n",
       "    .dataframe tbody tr th:only-of-type {\n",
       "        vertical-align: middle;\n",
       "    }\n",
       "\n",
       "    .dataframe tbody tr th {\n",
       "        vertical-align: top;\n",
       "    }\n",
       "\n",
       "    .dataframe thead th {\n",
       "        text-align: right;\n",
       "    }\n",
       "</style>\n",
       "<table border=\"1\" class=\"dataframe\">\n",
       "  <thead>\n",
       "    <tr style=\"text-align: right;\">\n",
       "      <th></th>\n",
       "      <th>id</th>\n",
       "      <th>kode_provinsi</th>\n",
       "      <th>nama_provinsi</th>\n",
       "      <th>kode_kabupaten_kota</th>\n",
       "      <th>nama_kabupaten_kota</th>\n",
       "      <th>jumlah_kasus</th>\n",
       "      <th>satuan</th>\n",
       "      <th>tahun</th>\n",
       "    </tr>\n",
       "  </thead>\n",
       "  <tbody>\n",
       "    <tr>\n",
       "      <th>0</th>\n",
       "      <td>1</td>\n",
       "      <td>32</td>\n",
       "      <td>JAWA BARAT</td>\n",
       "      <td>3201</td>\n",
       "      <td>KABUPATEN BOGOR</td>\n",
       "      <td>2</td>\n",
       "      <td>ORANG</td>\n",
       "      <td>2016</td>\n",
       "    </tr>\n",
       "    <tr>\n",
       "      <th>1</th>\n",
       "      <td>2</td>\n",
       "      <td>32</td>\n",
       "      <td>JAWA BARAT</td>\n",
       "      <td>3202</td>\n",
       "      <td>KABUPATEN SUKABUMI</td>\n",
       "      <td>0</td>\n",
       "      <td>ORANG</td>\n",
       "      <td>2016</td>\n",
       "    </tr>\n",
       "    <tr>\n",
       "      <th>2</th>\n",
       "      <td>3</td>\n",
       "      <td>32</td>\n",
       "      <td>JAWA BARAT</td>\n",
       "      <td>3203</td>\n",
       "      <td>KABUPATEN CIANJUR</td>\n",
       "      <td>2</td>\n",
       "      <td>ORANG</td>\n",
       "      <td>2016</td>\n",
       "    </tr>\n",
       "    <tr>\n",
       "      <th>3</th>\n",
       "      <td>4</td>\n",
       "      <td>32</td>\n",
       "      <td>JAWA BARAT</td>\n",
       "      <td>3204</td>\n",
       "      <td>KABUPATEN BANDUNG</td>\n",
       "      <td>2</td>\n",
       "      <td>ORANG</td>\n",
       "      <td>2016</td>\n",
       "    </tr>\n",
       "    <tr>\n",
       "      <th>4</th>\n",
       "      <td>5</td>\n",
       "      <td>32</td>\n",
       "      <td>JAWA BARAT</td>\n",
       "      <td>3205</td>\n",
       "      <td>KABUPATEN GARUT</td>\n",
       "      <td>4</td>\n",
       "      <td>ORANG</td>\n",
       "      <td>2016</td>\n",
       "    </tr>\n",
       "    <tr>\n",
       "      <th>5</th>\n",
       "      <td>6</td>\n",
       "      <td>32</td>\n",
       "      <td>JAWA BARAT</td>\n",
       "      <td>3206</td>\n",
       "      <td>KABUPATEN TASIKMALAYA</td>\n",
       "      <td>1</td>\n",
       "      <td>ORANG</td>\n",
       "      <td>2016</td>\n",
       "    </tr>\n",
       "    <tr>\n",
       "      <th>6</th>\n",
       "      <td>7</td>\n",
       "      <td>32</td>\n",
       "      <td>JAWA BARAT</td>\n",
       "      <td>3207</td>\n",
       "      <td>KABUPATEN CIAMIS</td>\n",
       "      <td>0</td>\n",
       "      <td>ORANG</td>\n",
       "      <td>2016</td>\n",
       "    </tr>\n",
       "    <tr>\n",
       "      <th>7</th>\n",
       "      <td>8</td>\n",
       "      <td>32</td>\n",
       "      <td>JAWA BARAT</td>\n",
       "      <td>3208</td>\n",
       "      <td>KABUPATEN KUNINGAN</td>\n",
       "      <td>0</td>\n",
       "      <td>ORANG</td>\n",
       "      <td>2016</td>\n",
       "    </tr>\n",
       "    <tr>\n",
       "      <th>8</th>\n",
       "      <td>9</td>\n",
       "      <td>32</td>\n",
       "      <td>JAWA BARAT</td>\n",
       "      <td>3209</td>\n",
       "      <td>KABUPATEN CIREBON</td>\n",
       "      <td>1</td>\n",
       "      <td>ORANG</td>\n",
       "      <td>2016</td>\n",
       "    </tr>\n",
       "    <tr>\n",
       "      <th>9</th>\n",
       "      <td>10</td>\n",
       "      <td>32</td>\n",
       "      <td>JAWA BARAT</td>\n",
       "      <td>3210</td>\n",
       "      <td>KABUPATEN MAJALENGKA</td>\n",
       "      <td>0</td>\n",
       "      <td>ORANG</td>\n",
       "      <td>2016</td>\n",
       "    </tr>\n",
       "  </tbody>\n",
       "</table>\n",
       "</div>"
      ],
      "text/plain": [
       "   id  kode_provinsi nama_provinsi  kode_kabupaten_kota  \\\n",
       "0   1             32    JAWA BARAT                 3201   \n",
       "1   2             32    JAWA BARAT                 3202   \n",
       "2   3             32    JAWA BARAT                 3203   \n",
       "3   4             32    JAWA BARAT                 3204   \n",
       "4   5             32    JAWA BARAT                 3205   \n",
       "5   6             32    JAWA BARAT                 3206   \n",
       "6   7             32    JAWA BARAT                 3207   \n",
       "7   8             32    JAWA BARAT                 3208   \n",
       "8   9             32    JAWA BARAT                 3209   \n",
       "9  10             32    JAWA BARAT                 3210   \n",
       "\n",
       "     nama_kabupaten_kota  jumlah_kasus satuan  tahun  \n",
       "0        KABUPATEN BOGOR             2  ORANG   2016  \n",
       "1     KABUPATEN SUKABUMI             0  ORANG   2016  \n",
       "2      KABUPATEN CIANJUR             2  ORANG   2016  \n",
       "3      KABUPATEN BANDUNG             2  ORANG   2016  \n",
       "4        KABUPATEN GARUT             4  ORANG   2016  \n",
       "5  KABUPATEN TASIKMALAYA             1  ORANG   2016  \n",
       "6       KABUPATEN CIAMIS             0  ORANG   2016  \n",
       "7     KABUPATEN KUNINGAN             0  ORANG   2016  \n",
       "8      KABUPATEN CIREBON             1  ORANG   2016  \n",
       "9   KABUPATEN MAJALENGKA             0  ORANG   2016  "
      ]
     },
     "execution_count": 25,
     "metadata": {},
     "output_type": "execute_result"
    }
   ],
   "source": [
    "# 10 baris pertama dari dataFrame Tetanus\n",
    "tetanus.head(10)"
   ]
  },
  {
   "cell_type": "markdown",
   "id": "e1f85406",
   "metadata": {},
   "source": [
    "### Jumlah Kasus Malaria di Jawa Barat"
   ]
  },
  {
   "cell_type": "markdown",
   "id": "38ea8f62",
   "metadata": {},
   "source": [
    "tautan dataset : https://opendata.jabarprov.go.id/id/dataset/jumlah-kasus-penyakit-malaria-berdasarkan-kabupatenkota-di-jawa-barat"
   ]
  },
  {
   "cell_type": "code",
   "execution_count": 26,
   "id": "095842fd",
   "metadata": {},
   "outputs": [],
   "source": [
    "#jumlah kasus penyakit malaria\n",
    "malaria = pd.read_csv('content/Datasets/jml_kasus_penyakit_malaria.csv')"
   ]
  },
  {
   "cell_type": "code",
   "execution_count": 27,
   "id": "03c51243",
   "metadata": {},
   "outputs": [
    {
     "name": "stdout",
     "output_type": "stream",
     "text": [
      "<class 'pandas.core.frame.DataFrame'>\n",
      "RangeIndex: 216 entries, 0 to 215\n",
      "Data columns (total 8 columns):\n",
      " #   Column               Non-Null Count  Dtype \n",
      "---  ------               --------------  ----- \n",
      " 0   id                   216 non-null    int64 \n",
      " 1   kode_provinsi        216 non-null    int64 \n",
      " 2   nama_provinsi        216 non-null    object\n",
      " 3   kode_kabupaten_kota  216 non-null    int64 \n",
      " 4   nama_kabupaten_kota  216 non-null    object\n",
      " 5   jumlah_kasus         216 non-null    int64 \n",
      " 6   satuan               216 non-null    object\n",
      " 7   tahun                216 non-null    int64 \n",
      "dtypes: int64(5), object(3)\n",
      "memory usage: 13.6+ KB\n"
     ]
    }
   ],
   "source": [
    "# ringkasan isi dari dataframe Malaria\n",
    "malaria.info()"
   ]
  },
  {
   "cell_type": "code",
   "execution_count": 28,
   "id": "cfd364f2",
   "metadata": {},
   "outputs": [
    {
     "data": {
      "text/html": [
       "<div>\n",
       "<style scoped>\n",
       "    .dataframe tbody tr th:only-of-type {\n",
       "        vertical-align: middle;\n",
       "    }\n",
       "\n",
       "    .dataframe tbody tr th {\n",
       "        vertical-align: top;\n",
       "    }\n",
       "\n",
       "    .dataframe thead th {\n",
       "        text-align: right;\n",
       "    }\n",
       "</style>\n",
       "<table border=\"1\" class=\"dataframe\">\n",
       "  <thead>\n",
       "    <tr style=\"text-align: right;\">\n",
       "      <th></th>\n",
       "      <th>id</th>\n",
       "      <th>kode_provinsi</th>\n",
       "      <th>nama_provinsi</th>\n",
       "      <th>kode_kabupaten_kota</th>\n",
       "      <th>nama_kabupaten_kota</th>\n",
       "      <th>jumlah_kasus</th>\n",
       "      <th>satuan</th>\n",
       "      <th>tahun</th>\n",
       "    </tr>\n",
       "  </thead>\n",
       "  <tbody>\n",
       "    <tr>\n",
       "      <th>0</th>\n",
       "      <td>1</td>\n",
       "      <td>32</td>\n",
       "      <td>JAWA BARAT</td>\n",
       "      <td>3201</td>\n",
       "      <td>KABUPATEN BOGOR</td>\n",
       "      <td>0</td>\n",
       "      <td>ORANG</td>\n",
       "      <td>2016</td>\n",
       "    </tr>\n",
       "    <tr>\n",
       "      <th>1</th>\n",
       "      <td>2</td>\n",
       "      <td>32</td>\n",
       "      <td>JAWA BARAT</td>\n",
       "      <td>3202</td>\n",
       "      <td>KABUPATEN SUKABUMI</td>\n",
       "      <td>66</td>\n",
       "      <td>ORANG</td>\n",
       "      <td>2016</td>\n",
       "    </tr>\n",
       "    <tr>\n",
       "      <th>2</th>\n",
       "      <td>3</td>\n",
       "      <td>32</td>\n",
       "      <td>JAWA BARAT</td>\n",
       "      <td>3203</td>\n",
       "      <td>KABUPATEN CIANJUR</td>\n",
       "      <td>0</td>\n",
       "      <td>ORANG</td>\n",
       "      <td>2016</td>\n",
       "    </tr>\n",
       "    <tr>\n",
       "      <th>3</th>\n",
       "      <td>4</td>\n",
       "      <td>32</td>\n",
       "      <td>JAWA BARAT</td>\n",
       "      <td>3204</td>\n",
       "      <td>KABUPATEN BANDUNG</td>\n",
       "      <td>1</td>\n",
       "      <td>ORANG</td>\n",
       "      <td>2016</td>\n",
       "    </tr>\n",
       "    <tr>\n",
       "      <th>4</th>\n",
       "      <td>5</td>\n",
       "      <td>32</td>\n",
       "      <td>JAWA BARAT</td>\n",
       "      <td>3205</td>\n",
       "      <td>KABUPATEN GARUT</td>\n",
       "      <td>5</td>\n",
       "      <td>ORANG</td>\n",
       "      <td>2016</td>\n",
       "    </tr>\n",
       "    <tr>\n",
       "      <th>5</th>\n",
       "      <td>6</td>\n",
       "      <td>32</td>\n",
       "      <td>JAWA BARAT</td>\n",
       "      <td>3206</td>\n",
       "      <td>KABUPATEN TASIKMALAYA</td>\n",
       "      <td>59</td>\n",
       "      <td>ORANG</td>\n",
       "      <td>2016</td>\n",
       "    </tr>\n",
       "    <tr>\n",
       "      <th>6</th>\n",
       "      <td>7</td>\n",
       "      <td>32</td>\n",
       "      <td>JAWA BARAT</td>\n",
       "      <td>3207</td>\n",
       "      <td>KABUPATEN CIAMIS</td>\n",
       "      <td>0</td>\n",
       "      <td>ORANG</td>\n",
       "      <td>2016</td>\n",
       "    </tr>\n",
       "    <tr>\n",
       "      <th>7</th>\n",
       "      <td>8</td>\n",
       "      <td>32</td>\n",
       "      <td>JAWA BARAT</td>\n",
       "      <td>3208</td>\n",
       "      <td>KABUPATEN KUNINGAN</td>\n",
       "      <td>0</td>\n",
       "      <td>ORANG</td>\n",
       "      <td>2016</td>\n",
       "    </tr>\n",
       "    <tr>\n",
       "      <th>8</th>\n",
       "      <td>9</td>\n",
       "      <td>32</td>\n",
       "      <td>JAWA BARAT</td>\n",
       "      <td>3209</td>\n",
       "      <td>KABUPATEN CIREBON</td>\n",
       "      <td>11</td>\n",
       "      <td>ORANG</td>\n",
       "      <td>2016</td>\n",
       "    </tr>\n",
       "    <tr>\n",
       "      <th>9</th>\n",
       "      <td>10</td>\n",
       "      <td>32</td>\n",
       "      <td>JAWA BARAT</td>\n",
       "      <td>3210</td>\n",
       "      <td>KABUPATEN MAJALENGKA</td>\n",
       "      <td>0</td>\n",
       "      <td>ORANG</td>\n",
       "      <td>2016</td>\n",
       "    </tr>\n",
       "  </tbody>\n",
       "</table>\n",
       "</div>"
      ],
      "text/plain": [
       "   id  kode_provinsi nama_provinsi  kode_kabupaten_kota  \\\n",
       "0   1             32    JAWA BARAT                 3201   \n",
       "1   2             32    JAWA BARAT                 3202   \n",
       "2   3             32    JAWA BARAT                 3203   \n",
       "3   4             32    JAWA BARAT                 3204   \n",
       "4   5             32    JAWA BARAT                 3205   \n",
       "5   6             32    JAWA BARAT                 3206   \n",
       "6   7             32    JAWA BARAT                 3207   \n",
       "7   8             32    JAWA BARAT                 3208   \n",
       "8   9             32    JAWA BARAT                 3209   \n",
       "9  10             32    JAWA BARAT                 3210   \n",
       "\n",
       "     nama_kabupaten_kota  jumlah_kasus satuan  tahun  \n",
       "0        KABUPATEN BOGOR             0  ORANG   2016  \n",
       "1     KABUPATEN SUKABUMI            66  ORANG   2016  \n",
       "2      KABUPATEN CIANJUR             0  ORANG   2016  \n",
       "3      KABUPATEN BANDUNG             1  ORANG   2016  \n",
       "4        KABUPATEN GARUT             5  ORANG   2016  \n",
       "5  KABUPATEN TASIKMALAYA            59  ORANG   2016  \n",
       "6       KABUPATEN CIAMIS             0  ORANG   2016  \n",
       "7     KABUPATEN KUNINGAN             0  ORANG   2016  \n",
       "8      KABUPATEN CIREBON            11  ORANG   2016  \n",
       "9   KABUPATEN MAJALENGKA             0  ORANG   2016  "
      ]
     },
     "execution_count": 28,
     "metadata": {},
     "output_type": "execute_result"
    }
   ],
   "source": [
    "# 10 baris pertama dari dataFrame Malaria\n",
    "malaria.head(10)"
   ]
  },
  {
   "cell_type": "markdown",
   "id": "1a73ffb1",
   "metadata": {},
   "source": [
    "### Jumlah Kasus Demam Berdarah di Jawa Barat"
   ]
  },
  {
   "cell_type": "markdown",
   "id": "3689a35b",
   "metadata": {},
   "source": [
    "tautan dataset : https://opendata.jabarprov.go.id/id/dataset/jumlah-kasus-penyakit-demam-berdarah-dengue-dbd-berdasarkan-kabupatenkota-di-jawa-barat"
   ]
  },
  {
   "cell_type": "code",
   "execution_count": 29,
   "id": "797c3674",
   "metadata": {},
   "outputs": [],
   "source": [
    "#jumlah kasus penyakit Demam berdarah\n",
    "demam_berdarah = pd.read_csv('content/Datasets/jml_kasus_penyakit_demam_berdarah.csv')"
   ]
  },
  {
   "cell_type": "code",
   "execution_count": 30,
   "id": "83bce924",
   "metadata": {},
   "outputs": [
    {
     "name": "stdout",
     "output_type": "stream",
     "text": [
      "<class 'pandas.core.frame.DataFrame'>\n",
      "RangeIndex: 216 entries, 0 to 215\n",
      "Data columns (total 8 columns):\n",
      " #   Column               Non-Null Count  Dtype \n",
      "---  ------               --------------  ----- \n",
      " 0   id                   216 non-null    int64 \n",
      " 1   kode_provinsi        216 non-null    int64 \n",
      " 2   nama_provinsi        216 non-null    object\n",
      " 3   kode_kabupaten_kota  216 non-null    int64 \n",
      " 4   nama_kabupaten_kota  216 non-null    object\n",
      " 5   jumlah_kasus         216 non-null    int64 \n",
      " 6   satuan               216 non-null    object\n",
      " 7   tahun                216 non-null    int64 \n",
      "dtypes: int64(5), object(3)\n",
      "memory usage: 13.6+ KB\n"
     ]
    }
   ],
   "source": [
    "# ringkasan isi dari dataframe Demam Berdarah\n",
    "demam_berdarah.info()"
   ]
  },
  {
   "cell_type": "code",
   "execution_count": 31,
   "id": "7e801ba1",
   "metadata": {},
   "outputs": [
    {
     "data": {
      "text/html": [
       "<div>\n",
       "<style scoped>\n",
       "    .dataframe tbody tr th:only-of-type {\n",
       "        vertical-align: middle;\n",
       "    }\n",
       "\n",
       "    .dataframe tbody tr th {\n",
       "        vertical-align: top;\n",
       "    }\n",
       "\n",
       "    .dataframe thead th {\n",
       "        text-align: right;\n",
       "    }\n",
       "</style>\n",
       "<table border=\"1\" class=\"dataframe\">\n",
       "  <thead>\n",
       "    <tr style=\"text-align: right;\">\n",
       "      <th></th>\n",
       "      <th>id</th>\n",
       "      <th>kode_provinsi</th>\n",
       "      <th>nama_provinsi</th>\n",
       "      <th>kode_kabupaten_kota</th>\n",
       "      <th>nama_kabupaten_kota</th>\n",
       "      <th>jumlah_kasus</th>\n",
       "      <th>satuan</th>\n",
       "      <th>tahun</th>\n",
       "    </tr>\n",
       "  </thead>\n",
       "  <tbody>\n",
       "    <tr>\n",
       "      <th>0</th>\n",
       "      <td>1</td>\n",
       "      <td>32</td>\n",
       "      <td>JAWA BARAT</td>\n",
       "      <td>3201</td>\n",
       "      <td>KABUPATEN BOGOR</td>\n",
       "      <td>3477</td>\n",
       "      <td>ORANG</td>\n",
       "      <td>2016</td>\n",
       "    </tr>\n",
       "    <tr>\n",
       "      <th>1</th>\n",
       "      <td>2</td>\n",
       "      <td>32</td>\n",
       "      <td>JAWA BARAT</td>\n",
       "      <td>3202</td>\n",
       "      <td>KABUPATEN SUKABUMI</td>\n",
       "      <td>854</td>\n",
       "      <td>ORANG</td>\n",
       "      <td>2016</td>\n",
       "    </tr>\n",
       "    <tr>\n",
       "      <th>2</th>\n",
       "      <td>3</td>\n",
       "      <td>32</td>\n",
       "      <td>JAWA BARAT</td>\n",
       "      <td>3203</td>\n",
       "      <td>KABUPATEN CIANJUR</td>\n",
       "      <td>799</td>\n",
       "      <td>ORANG</td>\n",
       "      <td>2016</td>\n",
       "    </tr>\n",
       "    <tr>\n",
       "      <th>3</th>\n",
       "      <td>4</td>\n",
       "      <td>32</td>\n",
       "      <td>JAWA BARAT</td>\n",
       "      <td>3204</td>\n",
       "      <td>KABUPATEN BANDUNG</td>\n",
       "      <td>3466</td>\n",
       "      <td>ORANG</td>\n",
       "      <td>2016</td>\n",
       "    </tr>\n",
       "    <tr>\n",
       "      <th>4</th>\n",
       "      <td>5</td>\n",
       "      <td>32</td>\n",
       "      <td>JAWA BARAT</td>\n",
       "      <td>3205</td>\n",
       "      <td>KABUPATEN GARUT</td>\n",
       "      <td>561</td>\n",
       "      <td>ORANG</td>\n",
       "      <td>2016</td>\n",
       "    </tr>\n",
       "    <tr>\n",
       "      <th>5</th>\n",
       "      <td>6</td>\n",
       "      <td>32</td>\n",
       "      <td>JAWA BARAT</td>\n",
       "      <td>3206</td>\n",
       "      <td>KABUPATEN TASIKMALAYA</td>\n",
       "      <td>478</td>\n",
       "      <td>ORANG</td>\n",
       "      <td>2016</td>\n",
       "    </tr>\n",
       "    <tr>\n",
       "      <th>6</th>\n",
       "      <td>7</td>\n",
       "      <td>32</td>\n",
       "      <td>JAWA BARAT</td>\n",
       "      <td>3207</td>\n",
       "      <td>KABUPATEN CIAMIS</td>\n",
       "      <td>748</td>\n",
       "      <td>ORANG</td>\n",
       "      <td>2016</td>\n",
       "    </tr>\n",
       "    <tr>\n",
       "      <th>7</th>\n",
       "      <td>8</td>\n",
       "      <td>32</td>\n",
       "      <td>JAWA BARAT</td>\n",
       "      <td>3208</td>\n",
       "      <td>KABUPATEN KUNINGAN</td>\n",
       "      <td>1720</td>\n",
       "      <td>ORANG</td>\n",
       "      <td>2016</td>\n",
       "    </tr>\n",
       "    <tr>\n",
       "      <th>8</th>\n",
       "      <td>9</td>\n",
       "      <td>32</td>\n",
       "      <td>JAWA BARAT</td>\n",
       "      <td>3209</td>\n",
       "      <td>KABUPATEN CIREBON</td>\n",
       "      <td>1877</td>\n",
       "      <td>ORANG</td>\n",
       "      <td>2016</td>\n",
       "    </tr>\n",
       "    <tr>\n",
       "      <th>9</th>\n",
       "      <td>10</td>\n",
       "      <td>32</td>\n",
       "      <td>JAWA BARAT</td>\n",
       "      <td>3210</td>\n",
       "      <td>KABUPATEN MAJALENGKA</td>\n",
       "      <td>322</td>\n",
       "      <td>ORANG</td>\n",
       "      <td>2016</td>\n",
       "    </tr>\n",
       "  </tbody>\n",
       "</table>\n",
       "</div>"
      ],
      "text/plain": [
       "   id  kode_provinsi nama_provinsi  kode_kabupaten_kota  \\\n",
       "0   1             32    JAWA BARAT                 3201   \n",
       "1   2             32    JAWA BARAT                 3202   \n",
       "2   3             32    JAWA BARAT                 3203   \n",
       "3   4             32    JAWA BARAT                 3204   \n",
       "4   5             32    JAWA BARAT                 3205   \n",
       "5   6             32    JAWA BARAT                 3206   \n",
       "6   7             32    JAWA BARAT                 3207   \n",
       "7   8             32    JAWA BARAT                 3208   \n",
       "8   9             32    JAWA BARAT                 3209   \n",
       "9  10             32    JAWA BARAT                 3210   \n",
       "\n",
       "     nama_kabupaten_kota  jumlah_kasus satuan  tahun  \n",
       "0        KABUPATEN BOGOR          3477  ORANG   2016  \n",
       "1     KABUPATEN SUKABUMI           854  ORANG   2016  \n",
       "2      KABUPATEN CIANJUR           799  ORANG   2016  \n",
       "3      KABUPATEN BANDUNG          3466  ORANG   2016  \n",
       "4        KABUPATEN GARUT           561  ORANG   2016  \n",
       "5  KABUPATEN TASIKMALAYA           478  ORANG   2016  \n",
       "6       KABUPATEN CIAMIS           748  ORANG   2016  \n",
       "7     KABUPATEN KUNINGAN          1720  ORANG   2016  \n",
       "8      KABUPATEN CIREBON          1877  ORANG   2016  \n",
       "9   KABUPATEN MAJALENGKA           322  ORANG   2016  "
      ]
     },
     "execution_count": 31,
     "metadata": {},
     "output_type": "execute_result"
    }
   ],
   "source": [
    "# 10 baris pertama dari dataFrame Demam Berdarah\n",
    "demam_berdarah.head(10)"
   ]
  },
  {
   "cell_type": "markdown",
   "id": "e2e5807a",
   "metadata": {},
   "source": [
    "# PRA-PROSES"
   ]
  },
  {
   "cell_type": "markdown",
   "id": "37d62aba",
   "metadata": {},
   "source": [
    "#### Hapus kolom yang tidak diperlukan"
   ]
  },
  {
   "cell_type": "markdown",
   "id": "cb07b15f",
   "metadata": {},
   "source": [
    "Beberapa kolom yang tidak diperlukan dari dataset kami hapus untuk membuat data yang bersih. Dalam hal ini, kami menghapus kolom id, kode_provinsi, nama_provinsi, kode_kabupaten_kota, dan satuan dalam dataset fasilitas kesehatan maupun dataset jumlah kasus penyakit yang mana tidak dibutuhkan untuk proses selanjutnya."
   ]
  },
  {
   "cell_type": "code",
   "execution_count": 32,
   "id": "64e44b51",
   "metadata": {},
   "outputs": [],
   "source": [
    "faskes = faskes.drop(columns = ['id','kode_provinsi', 'nama_provinsi', 'kode_kabupaten_kota', 'satuan'])\n",
    "campak = campak.drop(columns = ['kode_provinsi', 'nama_provinsi', 'satuan', 'kode_kabupaten_kota'])\n",
    "pneumonia = pneumonia.drop(columns = ['kode_provinsi', 'nama_provinsi', 'satuan', 'kode_kabupaten_kota', 'id'])\n",
    "diare = diare.drop(columns = ['kode_provinsi', 'nama_provinsi', 'satuan', 'kode_kabupaten_kota', 'id'])\n",
    "hiv = hiv.drop(columns = ['kode_provinsi', 'nama_provinsi', 'satuan', 'kode_kabupaten_kota', 'id'])\n",
    "demam_berdarah = demam_berdarah.drop(columns = ['kode_provinsi', 'nama_provinsi', 'satuan', 'kode_kabupaten_kota', 'id'])\n",
    "malaria = malaria.drop(columns = ['kode_provinsi', 'nama_provinsi', 'satuan', 'kode_kabupaten_kota', 'id'])\n",
    "diabetes = diabetes.drop(columns = ['kode_provinsi', 'nama_provinsi', 'satuan', 'kode_kabupaten_kota', 'id'])\n",
    "tetanus = tetanus.drop(columns = ['kode_provinsi', 'nama_provinsi', 'satuan', 'kode_kabupaten_kota', 'id'])\n",
    "tuberkulosis = tuberkulosis.drop(columns = ['kode_provinsi', 'nama_provinsi', 'satuan', 'kode_kabupaten_kota', 'id'])"
   ]
  },
  {
   "cell_type": "markdown",
   "id": "b543c675",
   "metadata": {},
   "source": [
    "#### Filter dataset dari tahun 2019 - 2023"
   ]
  },
  {
   "cell_type": "markdown",
   "id": "16c5e9f1",
   "metadata": {},
   "source": [
    "Memfilter data berdasarkan rentang tahun, yaitu dari tahun 2019 hingga 2023 atau melakukan operasi pada beberapa Dataset di mana setiap dataset dipotong (subset) agar hanya berisi data dari tahun 2019 hingga 2023. Filter dataset ini dilakukan pada dataset fasilitas kesehatan maupun dataset tiap kasus penyakit."
   ]
  },
  {
   "cell_type": "code",
   "execution_count": 33,
   "id": "8d94e74f",
   "metadata": {},
   "outputs": [],
   "source": [
    "faskes = faskes[(faskes['tahun'] >= 2019) & (faskes['tahun'] <= 2023)]\n",
    "campak = campak[(campak['tahun'] >= 2019) & (campak['tahun'] <= 2023)]\n",
    "diare = diare[(diare['tahun'] >= 2019) & (diare['tahun'] <= 2023)]\n",
    "pneumonia = pneumonia[(pneumonia['tahun'] >= 2019) & (pneumonia['tahun'] <= 2023)]\n",
    "hiv = hiv[(hiv['tahun'] >= 2019) & (hiv['tahun'] <= 2023)]\n",
    "malaria = malaria[(malaria['tahun'] >= 2019) & (malaria['tahun'] <= 2023)]\n",
    "demam_berdarah = demam_berdarah[(demam_berdarah['tahun'] >= 2019) & (demam_berdarah['tahun'] <= 2023)]\n",
    "diabetes = diabetes[(diabetes['tahun'] >= 2019) & (diabetes['tahun'] <= 2023)]\n",
    "tetanus = tetanus[(tetanus['tahun'] >= 2019) & (tetanus['tahun'] <= 2023)]\n",
    "tuberkulosis = tuberkulosis[(tuberkulosis['tahun'] >= 2019) & (tuberkulosis['tahun'] <= 2023)]"
   ]
  },
  {
   "cell_type": "markdown",
   "id": "25fd845f",
   "metadata": {},
   "source": [
    "#### Hapus duplikasi data"
   ]
  },
  {
   "cell_type": "markdown",
   "id": "89b3faaa",
   "metadata": {},
   "source": [
    "Tidak ada dataset yang terdapat duplikasi data sehingga kami tidak melakukan proses hapus duplikasi data."
   ]
  },
  {
   "cell_type": "markdown",
   "id": "cebfd4ce",
   "metadata": {},
   "source": [
    "#### Cek nilai kosong"
   ]
  },
  {
   "cell_type": "markdown",
   "id": "732293ed",
   "metadata": {},
   "source": [
    "Memeriksa apakah terdapat nilai kosong di dalam setiap dataset, baik dataset fasilitas kesehatan dan dataset tiap penyakit untuk melakukan pembersihan data."
   ]
  },
  {
   "cell_type": "code",
   "execution_count": 34,
   "id": "85265354",
   "metadata": {},
   "outputs": [
    {
     "name": "stdout",
     "output_type": "stream",
     "text": [
      "Jumlah nilai kosong dataset faskes:\n",
      "nama_kabupaten_kota    0\n",
      "jenis_faskes           0\n",
      "jumlah_faskes          0\n",
      "tahun                  0\n",
      "dtype: int64\n",
      "-------------------------------------\n",
      "Jumlah nilai kosong dataset campak:\n",
      "id                     0\n",
      "nama_kabupaten_kota    0\n",
      "jumlah_kasus           0\n",
      "tahun                  0\n",
      "dtype: int64\n",
      "-------------------------------------\n",
      "Jumlah nilai kosong dataset diabetes:\n",
      "nama_kabupaten_kota    0\n",
      "jumlah_kasus           0\n",
      "tahun                  0\n",
      "dtype: int64\n",
      "-------------------------------------\n",
      "Jumlah nilai kosong dataset diare:\n",
      "nama_kabupaten_kota    0\n",
      "jumlah_kasus           0\n",
      "tahun                  0\n",
      "dtype: int64\n",
      "-------------------------------------\n",
      "Jumlah nilai kosong dataset pneumonia:\n",
      "nama_kabupaten_kota    0\n",
      "jumlah_kasus           0\n",
      "tahun                  0\n",
      "dtype: int64\n",
      "-------------------------------------\n",
      "Jumlah nilai kosong dataset malaria:\n",
      "nama_kabupaten_kota    0\n",
      "jumlah_kasus           0\n",
      "tahun                  0\n",
      "dtype: int64\n",
      "-------------------------------------\n",
      "Jumlah nilai kosong dataset hiv:\n",
      "nama_kabupaten_kota    0\n",
      "jumlah_kasus           0\n",
      "tahun                  0\n",
      "dtype: int64\n",
      "-------------------------------------\n",
      "Jumlah nilai kosong dataset tetanus:\n",
      "nama_kabupaten_kota    0\n",
      "jumlah_kasus           0\n",
      "tahun                  0\n",
      "dtype: int64\n",
      "-------------------------------------\n",
      "Jumlah nilai kosong dataset tuberkulosis:\n",
      "nama_kabupaten_kota    0\n",
      "jumlah_kasus           0\n",
      "tahun                  0\n",
      "dtype: int64\n",
      "-------------------------------------\n",
      "Jumlah nilai kosong dataset demam berdarah:\n",
      "nama_kabupaten_kota    0\n",
      "jumlah_kasus           0\n",
      "tahun                  0\n",
      "dtype: int64\n"
     ]
    }
   ],
   "source": [
    "print(\"Jumlah nilai kosong dataset faskes:\")\n",
    "print(faskes.isnull().sum())\n",
    "\n",
    "print('-------------------------------------')\n",
    "\n",
    "print(\"Jumlah nilai kosong dataset campak:\")\n",
    "print(campak.isnull().sum())\n",
    "\n",
    "print('-------------------------------------')\n",
    "\n",
    "print(\"Jumlah nilai kosong dataset diabetes:\")\n",
    "print(diabetes.isnull().sum())\n",
    "\n",
    "print('-------------------------------------')\n",
    "\n",
    "print(\"Jumlah nilai kosong dataset diare:\")\n",
    "print(diare.isnull().sum())\n",
    "\n",
    "print('-------------------------------------')\n",
    "\n",
    "print(\"Jumlah nilai kosong dataset pneumonia:\")\n",
    "print(pneumonia.isnull().sum())\n",
    "\n",
    "print('-------------------------------------')\n",
    "\n",
    "print(\"Jumlah nilai kosong dataset malaria:\")\n",
    "print(malaria.isnull().sum())\n",
    "\n",
    "print('-------------------------------------')\n",
    "\n",
    "print(\"Jumlah nilai kosong dataset hiv:\")\n",
    "print(hiv.isnull().sum())\n",
    "\n",
    "print('-------------------------------------')\n",
    "\n",
    "print(\"Jumlah nilai kosong dataset tetanus:\")\n",
    "print(tetanus.isnull().sum())\n",
    "\n",
    "print('-------------------------------------')\n",
    "\n",
    "print(\"Jumlah nilai kosong dataset tuberkulosis:\")\n",
    "print(tuberkulosis.isnull().sum())\n",
    "\n",
    "print('-------------------------------------')\n",
    "\n",
    "print(\"Jumlah nilai kosong dataset demam berdarah:\")\n",
    "print(demam_berdarah.isnull().sum())\n"
   ]
  },
  {
   "cell_type": "markdown",
   "id": "401c3d98",
   "metadata": {},
   "source": [
    "# Pembersihan Dataset Fasilitas Kesehatan"
   ]
  },
  {
   "cell_type": "markdown",
   "id": "49304e3e",
   "metadata": {},
   "source": [
    "## Pemisahan jenis faskes yang sering dijumpai di Jawa Barat dengan faskes yang jarang dijumpai di Jawa Barat"
   ]
  },
  {
   "cell_type": "markdown",
   "id": "4388a811",
   "metadata": {},
   "source": [
    "### Pisahkan data berdasarkan jenis faskes"
   ]
  },
  {
   "cell_type": "markdown",
   "id": "5a004a87",
   "metadata": {},
   "source": [
    "RS UMUM"
   ]
  },
  {
   "cell_type": "code",
   "execution_count": 35,
   "id": "a9435635",
   "metadata": {},
   "outputs": [
    {
     "data": {
      "text/plain": [
       "count    135.000000\n",
       "mean      12.029630\n",
       "std       11.464377\n",
       "min        0.000000\n",
       "25%        5.000000\n",
       "50%        8.000000\n",
       "75%       16.000000\n",
       "max       50.000000\n",
       "Name: jumlah_faskes, dtype: float64"
      ]
     },
     "execution_count": 35,
     "metadata": {},
     "output_type": "execute_result"
    }
   ],
   "source": [
    "filter_RS_umum = faskes[faskes['jenis_faskes'] == 'RUMAH SAKIT UMUM']\n",
    "filter_RS_umum['jumlah_faskes'].describe()"
   ]
  },
  {
   "cell_type": "markdown",
   "id": "2cc27021",
   "metadata": {},
   "source": [
    "PUSKESMAS"
   ]
  },
  {
   "cell_type": "code",
   "execution_count": 36,
   "id": "45c2eb02",
   "metadata": {},
   "outputs": [
    {
     "data": {
      "text/plain": [
       "count    135.000000\n",
       "mean      40.637037\n",
       "std       21.063730\n",
       "min       10.000000\n",
       "25%       22.000000\n",
       "50%       38.000000\n",
       "75%       50.000000\n",
       "max      101.000000\n",
       "Name: jumlah_faskes, dtype: float64"
      ]
     },
     "execution_count": 36,
     "metadata": {},
     "output_type": "execute_result"
    }
   ],
   "source": [
    "filter_puskesmas = faskes[faskes['jenis_faskes'] == 'PUSKESMAS']\n",
    "filter_puskesmas['jumlah_faskes'].describe()"
   ]
  },
  {
   "cell_type": "markdown",
   "id": "f28c2d5d",
   "metadata": {},
   "source": [
    "POSYANDU"
   ]
  },
  {
   "cell_type": "code",
   "execution_count": 37,
   "id": "9aff5e6f",
   "metadata": {},
   "outputs": [
    {
     "data": {
      "text/plain": [
       "count     135.000000\n",
       "mean     1557.881481\n",
       "std      1379.007717\n",
       "min         0.000000\n",
       "25%       373.000000\n",
       "50%      1436.000000\n",
       "75%      2369.500000\n",
       "max      5141.000000\n",
       "Name: jumlah_faskes, dtype: float64"
      ]
     },
     "execution_count": 37,
     "metadata": {},
     "output_type": "execute_result"
    }
   ],
   "source": [
    "filter_posyandu = faskes[faskes['jenis_faskes'] == 'POSYANDU']\n",
    "filter_posyandu['jumlah_faskes'].describe()"
   ]
  },
  {
   "cell_type": "code",
   "execution_count": 38,
   "id": "695081d8",
   "metadata": {},
   "outputs": [
    {
     "data": {
      "text/html": [
       "<div>\n",
       "<style scoped>\n",
       "    .dataframe tbody tr th:only-of-type {\n",
       "        vertical-align: middle;\n",
       "    }\n",
       "\n",
       "    .dataframe tbody tr th {\n",
       "        vertical-align: top;\n",
       "    }\n",
       "\n",
       "    .dataframe thead th {\n",
       "        text-align: right;\n",
       "    }\n",
       "</style>\n",
       "<table border=\"1\" class=\"dataframe\">\n",
       "  <thead>\n",
       "    <tr style=\"text-align: right;\">\n",
       "      <th></th>\n",
       "      <th>nama_kabupaten_kota</th>\n",
       "      <th>jenis_faskes</th>\n",
       "      <th>jumlah_faskes</th>\n",
       "      <th>tahun</th>\n",
       "    </tr>\n",
       "  </thead>\n",
       "  <tbody>\n",
       "    <tr>\n",
       "      <th>139</th>\n",
       "      <td>KABUPATEN BOGOR</td>\n",
       "      <td>POSYANDU</td>\n",
       "      <td>0</td>\n",
       "      <td>2019</td>\n",
       "    </tr>\n",
       "    <tr>\n",
       "      <th>144</th>\n",
       "      <td>KABUPATEN SUKABUMI</td>\n",
       "      <td>POSYANDU</td>\n",
       "      <td>0</td>\n",
       "      <td>2019</td>\n",
       "    </tr>\n",
       "    <tr>\n",
       "      <th>149</th>\n",
       "      <td>KABUPATEN CIANJUR</td>\n",
       "      <td>POSYANDU</td>\n",
       "      <td>0</td>\n",
       "      <td>2019</td>\n",
       "    </tr>\n",
       "    <tr>\n",
       "      <th>154</th>\n",
       "      <td>KABUPATEN BANDUNG</td>\n",
       "      <td>POSYANDU</td>\n",
       "      <td>0</td>\n",
       "      <td>2019</td>\n",
       "    </tr>\n",
       "    <tr>\n",
       "      <th>159</th>\n",
       "      <td>KABUPATEN GARUT</td>\n",
       "      <td>POSYANDU</td>\n",
       "      <td>0</td>\n",
       "      <td>2019</td>\n",
       "    </tr>\n",
       "    <tr>\n",
       "      <th>164</th>\n",
       "      <td>KABUPATEN TASIKMALAYA</td>\n",
       "      <td>POSYANDU</td>\n",
       "      <td>0</td>\n",
       "      <td>2019</td>\n",
       "    </tr>\n",
       "    <tr>\n",
       "      <th>169</th>\n",
       "      <td>KABUPATEN CIAMIS</td>\n",
       "      <td>POSYANDU</td>\n",
       "      <td>0</td>\n",
       "      <td>2019</td>\n",
       "    </tr>\n",
       "    <tr>\n",
       "      <th>174</th>\n",
       "      <td>KABUPATEN KUNINGAN</td>\n",
       "      <td>POSYANDU</td>\n",
       "      <td>0</td>\n",
       "      <td>2019</td>\n",
       "    </tr>\n",
       "    <tr>\n",
       "      <th>179</th>\n",
       "      <td>KABUPATEN CIREBON</td>\n",
       "      <td>POSYANDU</td>\n",
       "      <td>0</td>\n",
       "      <td>2019</td>\n",
       "    </tr>\n",
       "    <tr>\n",
       "      <th>184</th>\n",
       "      <td>KABUPATEN MAJALENGKA</td>\n",
       "      <td>POSYANDU</td>\n",
       "      <td>0</td>\n",
       "      <td>2019</td>\n",
       "    </tr>\n",
       "    <tr>\n",
       "      <th>189</th>\n",
       "      <td>KABUPATEN SUMEDANG</td>\n",
       "      <td>POSYANDU</td>\n",
       "      <td>0</td>\n",
       "      <td>2019</td>\n",
       "    </tr>\n",
       "    <tr>\n",
       "      <th>194</th>\n",
       "      <td>KABUPATEN INDRAMAYU</td>\n",
       "      <td>POSYANDU</td>\n",
       "      <td>0</td>\n",
       "      <td>2019</td>\n",
       "    </tr>\n",
       "    <tr>\n",
       "      <th>199</th>\n",
       "      <td>KABUPATEN SUBANG</td>\n",
       "      <td>POSYANDU</td>\n",
       "      <td>0</td>\n",
       "      <td>2019</td>\n",
       "    </tr>\n",
       "    <tr>\n",
       "      <th>204</th>\n",
       "      <td>KABUPATEN PURWAKARTA</td>\n",
       "      <td>POSYANDU</td>\n",
       "      <td>0</td>\n",
       "      <td>2019</td>\n",
       "    </tr>\n",
       "    <tr>\n",
       "      <th>209</th>\n",
       "      <td>KABUPATEN KARAWANG</td>\n",
       "      <td>POSYANDU</td>\n",
       "      <td>0</td>\n",
       "      <td>2019</td>\n",
       "    </tr>\n",
       "    <tr>\n",
       "      <th>214</th>\n",
       "      <td>KABUPATEN BEKASI</td>\n",
       "      <td>POSYANDU</td>\n",
       "      <td>0</td>\n",
       "      <td>2019</td>\n",
       "    </tr>\n",
       "    <tr>\n",
       "      <th>219</th>\n",
       "      <td>KABUPATEN BANDUNG BARAT</td>\n",
       "      <td>POSYANDU</td>\n",
       "      <td>0</td>\n",
       "      <td>2019</td>\n",
       "    </tr>\n",
       "    <tr>\n",
       "      <th>224</th>\n",
       "      <td>KABUPATEN PANGANDARAN</td>\n",
       "      <td>POSYANDU</td>\n",
       "      <td>0</td>\n",
       "      <td>2019</td>\n",
       "    </tr>\n",
       "    <tr>\n",
       "      <th>229</th>\n",
       "      <td>KOTA BOGOR</td>\n",
       "      <td>POSYANDU</td>\n",
       "      <td>0</td>\n",
       "      <td>2019</td>\n",
       "    </tr>\n",
       "    <tr>\n",
       "      <th>234</th>\n",
       "      <td>KOTA SUKABUMI</td>\n",
       "      <td>POSYANDU</td>\n",
       "      <td>0</td>\n",
       "      <td>2019</td>\n",
       "    </tr>\n",
       "    <tr>\n",
       "      <th>239</th>\n",
       "      <td>KOTA BANDUNG</td>\n",
       "      <td>POSYANDU</td>\n",
       "      <td>0</td>\n",
       "      <td>2019</td>\n",
       "    </tr>\n",
       "    <tr>\n",
       "      <th>244</th>\n",
       "      <td>KOTA CIREBON</td>\n",
       "      <td>POSYANDU</td>\n",
       "      <td>0</td>\n",
       "      <td>2019</td>\n",
       "    </tr>\n",
       "    <tr>\n",
       "      <th>249</th>\n",
       "      <td>KOTA BEKASI</td>\n",
       "      <td>POSYANDU</td>\n",
       "      <td>0</td>\n",
       "      <td>2019</td>\n",
       "    </tr>\n",
       "    <tr>\n",
       "      <th>254</th>\n",
       "      <td>KOTA DEPOK</td>\n",
       "      <td>POSYANDU</td>\n",
       "      <td>0</td>\n",
       "      <td>2019</td>\n",
       "    </tr>\n",
       "    <tr>\n",
       "      <th>259</th>\n",
       "      <td>KOTA CIMAHI</td>\n",
       "      <td>POSYANDU</td>\n",
       "      <td>0</td>\n",
       "      <td>2019</td>\n",
       "    </tr>\n",
       "    <tr>\n",
       "      <th>264</th>\n",
       "      <td>KOTA TASIKMALAYA</td>\n",
       "      <td>POSYANDU</td>\n",
       "      <td>0</td>\n",
       "      <td>2019</td>\n",
       "    </tr>\n",
       "    <tr>\n",
       "      <th>269</th>\n",
       "      <td>KOTA BANJAR</td>\n",
       "      <td>POSYANDU</td>\n",
       "      <td>0</td>\n",
       "      <td>2019</td>\n",
       "    </tr>\n",
       "  </tbody>\n",
       "</table>\n",
       "</div>"
      ],
      "text/plain": [
       "         nama_kabupaten_kota jenis_faskes  jumlah_faskes  tahun\n",
       "139          KABUPATEN BOGOR     POSYANDU              0   2019\n",
       "144       KABUPATEN SUKABUMI     POSYANDU              0   2019\n",
       "149        KABUPATEN CIANJUR     POSYANDU              0   2019\n",
       "154        KABUPATEN BANDUNG     POSYANDU              0   2019\n",
       "159          KABUPATEN GARUT     POSYANDU              0   2019\n",
       "164    KABUPATEN TASIKMALAYA     POSYANDU              0   2019\n",
       "169         KABUPATEN CIAMIS     POSYANDU              0   2019\n",
       "174       KABUPATEN KUNINGAN     POSYANDU              0   2019\n",
       "179        KABUPATEN CIREBON     POSYANDU              0   2019\n",
       "184     KABUPATEN MAJALENGKA     POSYANDU              0   2019\n",
       "189       KABUPATEN SUMEDANG     POSYANDU              0   2019\n",
       "194      KABUPATEN INDRAMAYU     POSYANDU              0   2019\n",
       "199         KABUPATEN SUBANG     POSYANDU              0   2019\n",
       "204     KABUPATEN PURWAKARTA     POSYANDU              0   2019\n",
       "209       KABUPATEN KARAWANG     POSYANDU              0   2019\n",
       "214         KABUPATEN BEKASI     POSYANDU              0   2019\n",
       "219  KABUPATEN BANDUNG BARAT     POSYANDU              0   2019\n",
       "224    KABUPATEN PANGANDARAN     POSYANDU              0   2019\n",
       "229               KOTA BOGOR     POSYANDU              0   2019\n",
       "234            KOTA SUKABUMI     POSYANDU              0   2019\n",
       "239             KOTA BANDUNG     POSYANDU              0   2019\n",
       "244             KOTA CIREBON     POSYANDU              0   2019\n",
       "249              KOTA BEKASI     POSYANDU              0   2019\n",
       "254               KOTA DEPOK     POSYANDU              0   2019\n",
       "259              KOTA CIMAHI     POSYANDU              0   2019\n",
       "264         KOTA TASIKMALAYA     POSYANDU              0   2019\n",
       "269              KOTA BANJAR     POSYANDU              0   2019"
      ]
     },
     "execution_count": 38,
     "metadata": {},
     "output_type": "execute_result"
    }
   ],
   "source": [
    "filter_posyandu[filter_posyandu['jumlah_faskes'] == 0]"
   ]
  },
  {
   "cell_type": "markdown",
   "id": "a267c135",
   "metadata": {},
   "source": [
    "terdapat beberapa kota yang tidak memiliki posyandu, hal ini tentunya tidak logis karena posyandu merupakan salah satu fasilitas yang umum dijumpai. Oleh karena itu, dataset tersebut harus diganti."
   ]
  },
  {
   "cell_type": "code",
   "execution_count": 39,
   "id": "0ebf340e",
   "metadata": {},
   "outputs": [],
   "source": [
    "filter_posyandu = pd.read_csv(\"content/Datasets/jml_posyandu.csv\")"
   ]
  },
  {
   "cell_type": "markdown",
   "id": "066d9b5e",
   "metadata": {},
   "source": [
    "sesuaikan format dataset dengan format dataset faskes lainnya"
   ]
  },
  {
   "cell_type": "code",
   "execution_count": 40,
   "id": "596d6677",
   "metadata": {},
   "outputs": [],
   "source": [
    "# Drop columns 'id', 'kode_provinsi', and 'satuan'\n",
    "filter_posyandu.drop(columns=['id','nama_provinsi','kode_kabupaten_kota', 'kode_provinsi', 'satuan'], inplace=True)\n",
    "\n",
    "# Rename 'jumlah_posyandu' to 'jumlah_faskes'\n",
    "filter_posyandu.rename(columns={'jumlah_posyandu': 'jumlah_faskes'}, inplace=True)\n",
    "\n",
    "filter_posyandu['jenis_faskes'] = \"POSYANDU\""
   ]
  },
  {
   "cell_type": "code",
   "execution_count": 41,
   "id": "f6669032",
   "metadata": {},
   "outputs": [
    {
     "data": {
      "text/html": [
       "<div>\n",
       "<style scoped>\n",
       "    .dataframe tbody tr th:only-of-type {\n",
       "        vertical-align: middle;\n",
       "    }\n",
       "\n",
       "    .dataframe tbody tr th {\n",
       "        vertical-align: top;\n",
       "    }\n",
       "\n",
       "    .dataframe thead th {\n",
       "        text-align: right;\n",
       "    }\n",
       "</style>\n",
       "<table border=\"1\" class=\"dataframe\">\n",
       "  <thead>\n",
       "    <tr style=\"text-align: right;\">\n",
       "      <th></th>\n",
       "      <th>nama_kabupaten_kota</th>\n",
       "      <th>jumlah_faskes</th>\n",
       "      <th>tahun</th>\n",
       "      <th>jenis_faskes</th>\n",
       "    </tr>\n",
       "  </thead>\n",
       "  <tbody>\n",
       "    <tr>\n",
       "      <th>0</th>\n",
       "      <td>KABUPATEN BOGOR</td>\n",
       "      <td>4997</td>\n",
       "      <td>2019</td>\n",
       "      <td>POSYANDU</td>\n",
       "    </tr>\n",
       "    <tr>\n",
       "      <th>1</th>\n",
       "      <td>KABUPATEN SUKABUMI</td>\n",
       "      <td>3493</td>\n",
       "      <td>2019</td>\n",
       "      <td>POSYANDU</td>\n",
       "    </tr>\n",
       "    <tr>\n",
       "      <th>2</th>\n",
       "      <td>KABUPATEN CIANJUR</td>\n",
       "      <td>2908</td>\n",
       "      <td>2019</td>\n",
       "      <td>POSYANDU</td>\n",
       "    </tr>\n",
       "    <tr>\n",
       "      <th>3</th>\n",
       "      <td>KABUPATEN BANDUNG</td>\n",
       "      <td>4299</td>\n",
       "      <td>2019</td>\n",
       "      <td>POSYANDU</td>\n",
       "    </tr>\n",
       "    <tr>\n",
       "      <th>4</th>\n",
       "      <td>KABUPATEN GARUT</td>\n",
       "      <td>4223</td>\n",
       "      <td>2019</td>\n",
       "      <td>POSYANDU</td>\n",
       "    </tr>\n",
       "  </tbody>\n",
       "</table>\n",
       "</div>"
      ],
      "text/plain": [
       "  nama_kabupaten_kota  jumlah_faskes  tahun jenis_faskes\n",
       "0     KABUPATEN BOGOR           4997   2019     POSYANDU\n",
       "1  KABUPATEN SUKABUMI           3493   2019     POSYANDU\n",
       "2   KABUPATEN CIANJUR           2908   2019     POSYANDU\n",
       "3   KABUPATEN BANDUNG           4299   2019     POSYANDU\n",
       "4     KABUPATEN GARUT           4223   2019     POSYANDU"
      ]
     },
     "execution_count": 41,
     "metadata": {},
     "output_type": "execute_result"
    }
   ],
   "source": [
    "filter_posyandu.head()"
   ]
  },
  {
   "cell_type": "code",
   "execution_count": 42,
   "id": "d728b891",
   "metadata": {},
   "outputs": [
    {
     "data": {
      "text/html": [
       "<div>\n",
       "<style scoped>\n",
       "    .dataframe tbody tr th:only-of-type {\n",
       "        vertical-align: middle;\n",
       "    }\n",
       "\n",
       "    .dataframe tbody tr th {\n",
       "        vertical-align: top;\n",
       "    }\n",
       "\n",
       "    .dataframe thead th {\n",
       "        text-align: right;\n",
       "    }\n",
       "</style>\n",
       "<table border=\"1\" class=\"dataframe\">\n",
       "  <thead>\n",
       "    <tr style=\"text-align: right;\">\n",
       "      <th></th>\n",
       "      <th>jumlah_faskes</th>\n",
       "      <th>tahun</th>\n",
       "    </tr>\n",
       "  </thead>\n",
       "  <tbody>\n",
       "    <tr>\n",
       "      <th>count</th>\n",
       "      <td>135.000000</td>\n",
       "      <td>135.000000</td>\n",
       "    </tr>\n",
       "    <tr>\n",
       "      <th>mean</th>\n",
       "      <td>1925.244444</td>\n",
       "      <td>2021.000000</td>\n",
       "    </tr>\n",
       "    <tr>\n",
       "      <th>std</th>\n",
       "      <td>1275.628452</td>\n",
       "      <td>1.419481</td>\n",
       "    </tr>\n",
       "    <tr>\n",
       "      <th>min</th>\n",
       "      <td>3.000000</td>\n",
       "      <td>2019.000000</td>\n",
       "    </tr>\n",
       "    <tr>\n",
       "      <th>25%</th>\n",
       "      <td>980.000000</td>\n",
       "      <td>2020.000000</td>\n",
       "    </tr>\n",
       "    <tr>\n",
       "      <th>50%</th>\n",
       "      <td>1683.000000</td>\n",
       "      <td>2021.000000</td>\n",
       "    </tr>\n",
       "    <tr>\n",
       "      <th>75%</th>\n",
       "      <td>2447.500000</td>\n",
       "      <td>2022.000000</td>\n",
       "    </tr>\n",
       "    <tr>\n",
       "      <th>max</th>\n",
       "      <td>5141.000000</td>\n",
       "      <td>2023.000000</td>\n",
       "    </tr>\n",
       "  </tbody>\n",
       "</table>\n",
       "</div>"
      ],
      "text/plain": [
       "       jumlah_faskes        tahun\n",
       "count     135.000000   135.000000\n",
       "mean     1925.244444  2021.000000\n",
       "std      1275.628452     1.419481\n",
       "min         3.000000  2019.000000\n",
       "25%       980.000000  2020.000000\n",
       "50%      1683.000000  2021.000000\n",
       "75%      2447.500000  2022.000000\n",
       "max      5141.000000  2023.000000"
      ]
     },
     "execution_count": 42,
     "metadata": {},
     "output_type": "execute_result"
    }
   ],
   "source": [
    "filter_posyandu.describe()"
   ]
  },
  {
   "cell_type": "markdown",
   "id": "13e417b1",
   "metadata": {},
   "source": [
    "dataset untuk posyandu diganti dengan dataset baru (https://opendata.jabarprov.go.id/id/dataset/jumlah-pos-pelayanan-terpadu-posyandu-berdasarkan-kabupatenkota-di-jawa-barat)"
   ]
  },
  {
   "cell_type": "markdown",
   "id": "bb57c2a9",
   "metadata": {},
   "source": [
    "RUMAH SAKIT KHUSUS"
   ]
  },
  {
   "cell_type": "code",
   "execution_count": 43,
   "id": "5ac3ffba",
   "metadata": {},
   "outputs": [
    {
     "data": {
      "text/plain": [
       "count    135.000000\n",
       "mean       2.251852\n",
       "std        3.048656\n",
       "min        0.000000\n",
       "25%        0.000000\n",
       "50%        1.000000\n",
       "75%        3.000000\n",
       "max       15.000000\n",
       "Name: jumlah_faskes, dtype: float64"
      ]
     },
     "execution_count": 43,
     "metadata": {},
     "output_type": "execute_result"
    }
   ],
   "source": [
    "filter_RS_khusus = faskes[faskes['jenis_faskes'] == 'RUMAH SAKIT KHUSUS']\n",
    "filter_RS_khusus['jumlah_faskes'].describe()"
   ]
  },
  {
   "cell_type": "markdown",
   "id": "db6cecd9",
   "metadata": {},
   "source": [
    "RUMAH SAKIT BERSALIN"
   ]
  },
  {
   "cell_type": "code",
   "execution_count": 44,
   "id": "57df5095",
   "metadata": {},
   "outputs": [
    {
     "data": {
      "text/plain": [
       "count    135.000000\n",
       "mean       0.162963\n",
       "std        1.893459\n",
       "min        0.000000\n",
       "25%        0.000000\n",
       "50%        0.000000\n",
       "75%        0.000000\n",
       "max       22.000000\n",
       "Name: jumlah_faskes, dtype: float64"
      ]
     },
     "execution_count": 44,
     "metadata": {},
     "output_type": "execute_result"
    }
   ],
   "source": [
    "filter_RS_bersalin = faskes[faskes['jenis_faskes'] == 'RUMAH SAKIT BERSALIN']\n",
    "filter_RS_bersalin['jumlah_faskes'].describe()"
   ]
  },
  {
   "cell_type": "markdown",
   "id": "46cbd6fb",
   "metadata": {},
   "source": [
    "Berdasarkan hasil pengamatan nilai mean setiap jenis faskes dan quartil 1  \n",
    "Jenis faskes yang umum dijumpai di Jawa Barat :\n",
    "(1) RS Umum \n",
    "(2) Puskesmas \n",
    "(3) Posyandu \n",
    "\n",
    "Jenis faskes yang jarang dijumpai di Jawa Barat :\n",
    "(1) RS Khusus \n",
    "(2) RS Bersalin"
   ]
  },
  {
   "cell_type": "markdown",
   "id": "ce02399a",
   "metadata": {},
   "source": [
    "#### Penanganan Jenis faskes yang umum dijumpai di Jawa Barat \n",
    "(1) Cek wilayah dengan jumlah faskes = 0. Selidiki Wilayah dengan jumlah faskes 0. Hal ini bertujuan untuk menghindari kasus salah input jumlah faskes. Jika data tersebut telah dipastikan merupakan sebuah kesalahan input ganti nilainya dengan rata-rata jumlah faskes di wailayah tersebut\n"
   ]
  },
  {
   "cell_type": "code",
   "execution_count": 45,
   "id": "9ffb5bf4",
   "metadata": {},
   "outputs": [
    {
     "data": {
      "text/html": [
       "<div>\n",
       "<style scoped>\n",
       "    .dataframe tbody tr th:only-of-type {\n",
       "        vertical-align: middle;\n",
       "    }\n",
       "\n",
       "    .dataframe tbody tr th {\n",
       "        vertical-align: top;\n",
       "    }\n",
       "\n",
       "    .dataframe thead th {\n",
       "        text-align: right;\n",
       "    }\n",
       "</style>\n",
       "<table border=\"1\" class=\"dataframe\">\n",
       "  <thead>\n",
       "    <tr style=\"text-align: right;\">\n",
       "      <th></th>\n",
       "      <th>nama_kabupaten_kota</th>\n",
       "      <th>jenis_faskes</th>\n",
       "      <th>jumlah_faskes</th>\n",
       "      <th>tahun</th>\n",
       "    </tr>\n",
       "  </thead>\n",
       "  <tbody>\n",
       "    <tr>\n",
       "      <th>220</th>\n",
       "      <td>KABUPATEN PANGANDARAN</td>\n",
       "      <td>RUMAH SAKIT UMUM</td>\n",
       "      <td>0</td>\n",
       "      <td>2019</td>\n",
       "    </tr>\n",
       "  </tbody>\n",
       "</table>\n",
       "</div>"
      ],
      "text/plain": [
       "       nama_kabupaten_kota      jenis_faskes  jumlah_faskes  tahun\n",
       "220  KABUPATEN PANGANDARAN  RUMAH SAKIT UMUM              0   2019"
      ]
     },
     "execution_count": 45,
     "metadata": {},
     "output_type": "execute_result"
    }
   ],
   "source": [
    "filter_RS_umum[filter_RS_umum['jumlah_faskes'] == 0]"
   ]
  },
  {
   "cell_type": "markdown",
   "id": "e7eeffc6",
   "metadata": {},
   "source": [
    "Kita harus cek apakah benar jumlah RS Umum di KABUPATEN PANGANDARAN pada tahun 2019 adalah 0, kita patut curiga karena RS Umum merupakan salah satu Fasilitas Kesehatan yang penting."
   ]
  },
  {
   "cell_type": "markdown",
   "id": "13a396cd",
   "metadata": {},
   "source": [
    "(2) Cek apakah ada lonjakan jumlah fasilitas kesehatan yang tidak masuk akal, misalkan mungkinkah jika jumlah RS Umum di kota X pada tahun 2019 berjumlah 10 dan jumlah RS Umum pada tahun 2020 berjumlah 30. Apakah mungkin dalam 1 tahun kota tersebut dapat membangun 20 RS Umum? Selidiki grafik jumlah faskes di suatu wilayah, jika tidak masuk akal ganti nilainya menjadi mean.\n"
   ]
  },
  {
   "cell_type": "markdown",
   "id": "49ebf38e",
   "metadata": {},
   "source": [
    "#### Penanganan Jenis faskes yang jarang dijumpai di Jawa Barat"
   ]
  },
  {
   "cell_type": "markdown",
   "id": "aae586ec",
   "metadata": {},
   "source": [
    "(1) Cek apakah ada data yang meiliki jumlah faskes yang berbeda jauh dengan nilai rata-rata. Jika iya selidiki plot jumlah faskes wilayah tersebut apakah ada anomali?"
   ]
  },
  {
   "cell_type": "code",
   "execution_count": 46,
   "id": "1bfcf21d",
   "metadata": {},
   "outputs": [
    {
     "data": {
      "text/html": [
       "<div>\n",
       "<style scoped>\n",
       "    .dataframe tbody tr th:only-of-type {\n",
       "        vertical-align: middle;\n",
       "    }\n",
       "\n",
       "    .dataframe tbody tr th {\n",
       "        vertical-align: top;\n",
       "    }\n",
       "\n",
       "    .dataframe thead th {\n",
       "        text-align: right;\n",
       "    }\n",
       "</style>\n",
       "<table border=\"1\" class=\"dataframe\">\n",
       "  <thead>\n",
       "    <tr style=\"text-align: right;\">\n",
       "      <th></th>\n",
       "      <th>nama_kabupaten_kota</th>\n",
       "      <th>jenis_faskes</th>\n",
       "      <th>jumlah_faskes</th>\n",
       "      <th>tahun</th>\n",
       "    </tr>\n",
       "  </thead>\n",
       "  <tbody>\n",
       "    <tr>\n",
       "      <th>322</th>\n",
       "      <td>KABUPATEN SUMEDANG</td>\n",
       "      <td>RUMAH SAKIT BERSALIN</td>\n",
       "      <td>22</td>\n",
       "      <td>2020</td>\n",
       "    </tr>\n",
       "  </tbody>\n",
       "</table>\n",
       "</div>"
      ],
      "text/plain": [
       "    nama_kabupaten_kota          jenis_faskes  jumlah_faskes  tahun\n",
       "322  KABUPATEN SUMEDANG  RUMAH SAKIT BERSALIN             22   2020"
      ]
     },
     "execution_count": 46,
     "metadata": {},
     "output_type": "execute_result"
    }
   ],
   "source": [
    "filter_RS_bersalin[filter_RS_bersalin['jumlah_faskes'] > 10]"
   ]
  },
  {
   "cell_type": "code",
   "execution_count": 47,
   "id": "84a59101",
   "metadata": {},
   "outputs": [
    {
     "data": {
      "text/html": [
       "<div>\n",
       "<style scoped>\n",
       "    .dataframe tbody tr th:only-of-type {\n",
       "        vertical-align: middle;\n",
       "    }\n",
       "\n",
       "    .dataframe tbody tr th {\n",
       "        vertical-align: top;\n",
       "    }\n",
       "\n",
       "    .dataframe thead th {\n",
       "        text-align: right;\n",
       "    }\n",
       "</style>\n",
       "<table border=\"1\" class=\"dataframe\">\n",
       "  <thead>\n",
       "    <tr style=\"text-align: right;\">\n",
       "      <th></th>\n",
       "      <th>nama_kabupaten_kota</th>\n",
       "      <th>jenis_faskes</th>\n",
       "      <th>jumlah_faskes</th>\n",
       "      <th>tahun</th>\n",
       "    </tr>\n",
       "  </thead>\n",
       "  <tbody>\n",
       "    <tr>\n",
       "      <th>187</th>\n",
       "      <td>KABUPATEN SUMEDANG</td>\n",
       "      <td>RUMAH SAKIT BERSALIN</td>\n",
       "      <td>0</td>\n",
       "      <td>2019</td>\n",
       "    </tr>\n",
       "    <tr>\n",
       "      <th>322</th>\n",
       "      <td>KABUPATEN SUMEDANG</td>\n",
       "      <td>RUMAH SAKIT BERSALIN</td>\n",
       "      <td>22</td>\n",
       "      <td>2020</td>\n",
       "    </tr>\n",
       "    <tr>\n",
       "      <th>457</th>\n",
       "      <td>KABUPATEN SUMEDANG</td>\n",
       "      <td>RUMAH SAKIT BERSALIN</td>\n",
       "      <td>0</td>\n",
       "      <td>2021</td>\n",
       "    </tr>\n",
       "    <tr>\n",
       "      <th>592</th>\n",
       "      <td>KABUPATEN SUMEDANG</td>\n",
       "      <td>RUMAH SAKIT BERSALIN</td>\n",
       "      <td>0</td>\n",
       "      <td>2022</td>\n",
       "    </tr>\n",
       "    <tr>\n",
       "      <th>727</th>\n",
       "      <td>KABUPATEN SUMEDANG</td>\n",
       "      <td>RUMAH SAKIT BERSALIN</td>\n",
       "      <td>0</td>\n",
       "      <td>2023</td>\n",
       "    </tr>\n",
       "  </tbody>\n",
       "</table>\n",
       "</div>"
      ],
      "text/plain": [
       "    nama_kabupaten_kota          jenis_faskes  jumlah_faskes  tahun\n",
       "187  KABUPATEN SUMEDANG  RUMAH SAKIT BERSALIN              0   2019\n",
       "322  KABUPATEN SUMEDANG  RUMAH SAKIT BERSALIN             22   2020\n",
       "457  KABUPATEN SUMEDANG  RUMAH SAKIT BERSALIN              0   2021\n",
       "592  KABUPATEN SUMEDANG  RUMAH SAKIT BERSALIN              0   2022\n",
       "727  KABUPATEN SUMEDANG  RUMAH SAKIT BERSALIN              0   2023"
      ]
     },
     "execution_count": 47,
     "metadata": {},
     "output_type": "execute_result"
    }
   ],
   "source": [
    "filter_RS_bersalin[filter_RS_bersalin['nama_kabupaten_kota'] == 'KABUPATEN SUMEDANG']"
   ]
  },
  {
   "cell_type": "markdown",
   "id": "06e47275",
   "metadata": {},
   "source": [
    "Terlihat pada tahun 2020 jumlah RS bersalin di Kabupaten Sumedang melonjak tinggi, kita perlu skeptis dengan data seperti ini. Apakah data tersebut benar atau kesalahan input?"
   ]
  },
  {
   "cell_type": "markdown",
   "id": "fdeb45f5",
   "metadata": {},
   "source": [
    "(2) Cek apakah ada lonjakan jumlah fasilitas kesehatan yang tidak masuk akal, misalkan mungkinkah jika jumlah RS Khusus di kota X pada tahun 2019 berjumlah 1 dan jumlah RS Umum pada tahun 2020 berjumlah 20. Apakah mungkin dalam 1 tahun kota tersebut dapat membangun 19 RS Khusus? Selidiki grafik jumlah faskes di wilayah tersebut, jika tidak masuk akal ganti nilainya menjadi mean."
   ]
  },
  {
   "cell_type": "markdown",
   "id": "1533b6f7",
   "metadata": {},
   "source": [
    "# Pembersihan Dataset RS Umum"
   ]
  },
  {
   "cell_type": "markdown",
   "id": "c4473807",
   "metadata": {},
   "source": [
    "## Cek jumlah RS Umum yang sama dengan 0 di suatu daerah"
   ]
  },
  {
   "cell_type": "code",
   "execution_count": 48,
   "id": "1786647d",
   "metadata": {},
   "outputs": [
    {
     "data": {
      "text/html": [
       "<div>\n",
       "<style scoped>\n",
       "    .dataframe tbody tr th:only-of-type {\n",
       "        vertical-align: middle;\n",
       "    }\n",
       "\n",
       "    .dataframe tbody tr th {\n",
       "        vertical-align: top;\n",
       "    }\n",
       "\n",
       "    .dataframe thead th {\n",
       "        text-align: right;\n",
       "    }\n",
       "</style>\n",
       "<table border=\"1\" class=\"dataframe\">\n",
       "  <thead>\n",
       "    <tr style=\"text-align: right;\">\n",
       "      <th></th>\n",
       "      <th>nama_kabupaten_kota</th>\n",
       "      <th>jenis_faskes</th>\n",
       "      <th>jumlah_faskes</th>\n",
       "      <th>tahun</th>\n",
       "    </tr>\n",
       "  </thead>\n",
       "  <tbody>\n",
       "    <tr>\n",
       "      <th>220</th>\n",
       "      <td>KABUPATEN PANGANDARAN</td>\n",
       "      <td>RUMAH SAKIT UMUM</td>\n",
       "      <td>0</td>\n",
       "      <td>2019</td>\n",
       "    </tr>\n",
       "  </tbody>\n",
       "</table>\n",
       "</div>"
      ],
      "text/plain": [
       "       nama_kabupaten_kota      jenis_faskes  jumlah_faskes  tahun\n",
       "220  KABUPATEN PANGANDARAN  RUMAH SAKIT UMUM              0   2019"
      ]
     },
     "execution_count": 48,
     "metadata": {},
     "output_type": "execute_result"
    }
   ],
   "source": [
    "filter_RS_umum[filter_RS_umum['jumlah_faskes'] == 0]"
   ]
  },
  {
   "cell_type": "code",
   "execution_count": 49,
   "id": "839d3782",
   "metadata": {},
   "outputs": [
    {
     "data": {
      "image/png": "[encoded data removed]",
      "text/plain": [
       "<Figure size 1000x600 with 1 Axes>"
      ]
     },
     "metadata": {},
     "output_type": "display_data"
    }
   ],
   "source": [
    "\n",
    "# Misal filter_RS_umum sudah terdefinisi\n",
    "# Filter data untuk Kabupaten Pangandaran\n",
    "pangandaran_data = filter_RS_umum[filter_RS_umum['nama_kabupaten_kota'] == 'KABUPATEN PANGANDARAN']\n",
    "\n",
    "# Membuat line chart\n",
    "plt.figure(figsize=(10, 6))\n",
    "\n",
    "# Misalkan ingin membuat grafik jumlah fasilitas kesehatan atau parameter lainnya berdasarkan tahun\n",
    "plt.plot(pangandaran_data['tahun'], pangandaran_data['jumlah_faskes'], marker='o', linestyle='-', color='b')\n",
    "\n",
    "# Menambahkan judul dan label sumbu\n",
    "plt.title('Jumlah Fasilitas Kesehatan di Kabupaten Pangandaran')\n",
    "plt.xlabel('Tahun')\n",
    "plt.ylabel('Jumlah Fasilitas')\n",
    "\n",
    "# Menampilkan grid\n",
    "plt.grid(True)\n",
    "\n",
    "# Menampilkan chart\n",
    "plt.show()"
   ]
  },
  {
   "cell_type": "markdown",
   "id": "a82a9e9b",
   "metadata": {},
   "source": [
    "Berdasarkan grafik, dapat dilihat pada tahun 2019-2020 tidak terjadi lonjakan yang tinggi, maka dari itu jumlah RS Umum di Kabupaten Pangandaran pada tahun 2019 bukanlah sebuah kesalahan input"
   ]
  },
  {
   "cell_type": "markdown",
   "id": "5a3de420",
   "metadata": {},
   "source": [
    "## Cek apabila ada lonjakan jumlah faskes RS Umum yang tidak wajar"
   ]
  },
  {
   "cell_type": "markdown",
   "id": "da367e7d",
   "metadata": {},
   "source": [
    "Fungsi deteksi_lonjakan_faskes bertujuan mendeteksi anomali jumlah fasilitas kesehatan di berbagai kabupaten/kota berdasarkan perubahan jumlah antar tahun. Dataset yang diberikan sudah difilter berdasarkan jenis fasilitas kesehatan, sehingga fungsi ini bekerja untuk semua kabupaten/kota yang ada.\n",
    "\n",
    "Fungsi ini:\n",
    "\n",
    "1 Mengambil daftar kabupaten/kota unik dari dataset.\n",
    "2 Memfilter data untuk setiap kabupaten/kota dan mengurutkannya berdasarkan tahun.\n",
    "3 Menghitung lonjakan atau perubahan jumlah fasilitas kesehatan antar tahun dengan fungsi diff().\n",
    "4 Mendeteksi anomali ketika perubahan jumlah fasilitas kesehatan antar tahun melebihi ambang batas yang ditentukan (misalnya 1000).\n",
    "5 Menampilkan hasil anomali jika ditemukan, termasuk tahun, jumlah fasilitas, perubahan jumlah, dan data tahun sebelumnya.\n",
    "Fungsi ini membantu dalam mengidentifikasi daerah dengan perubahan fasilitas kesehatan yang tidak wajar."
   ]
  },
  {
   "cell_type": "code",
   "execution_count": 50,
   "id": "c23484f3",
   "metadata": {},
   "outputs": [],
   "source": [
    "def deteksi_lonjakan_faskes(faskes, threshold=1000):\n",
    "    \"\"\"\n",
    "    Fungsi untuk mendeteksi anomali pada jumlah fasilitas kesehatan di seluruh kabupaten/kota yang ada di dataset.\n",
    "\n",
    "    Parameter:\n",
    "    - faskes: DataFrame yang berisi data jumlah fasilitas kesehatan yang telah difilter berdasarkan jenis faskes.\n",
    "    - threshold: Integer, batas toleransi untuk perubahan yang dianggap wajar (default: 1000).\n",
    "\n",
    "    Output:\n",
    "    - Mencetak hasil anomali jika ditemukan.\n",
    "    \"\"\"\n",
    "\n",
    "    # Mendapatkan daftar unik kabupaten/kota\n",
    "    kabupaten_kota_list = faskes['nama_kabupaten_kota'].unique()\n",
    "\n",
    "    # Iterasi melalui setiap kabupaten/kota\n",
    "    for kabupaten_kota in kabupaten_kota_list:\n",
    "        # Ambil data berdasarkan kabupaten/kota\n",
    "        filtered_data = faskes[faskes['nama_kabupaten_kota'] == kabupaten_kota]\n",
    "        \n",
    "        # Pastikan data terurut berdasarkan tahun\n",
    "        filtered_data = filtered_data.sort_values('tahun').reset_index(drop=True)\n",
    "        \n",
    "        # Hitung perubahan antar tahun\n",
    "        filtered_data['lonjakan'] = filtered_data['jumlah_faskes'].diff()\n",
    "        \n",
    "        # Tambahkan kolom tahun sebelumnya\n",
    "        filtered_data['tahun_sebelumnya'] = filtered_data['tahun'].shift(1)\n",
    "        \n",
    "        # Tambahkan kolom jumlah faskes tahun sebelumnya\n",
    "        filtered_data['jumlah_faskes_sebelumnya'] = filtered_data['jumlah_faskes'].shift(1)\n",
    "        \n",
    "        # Deteksi anomali berdasarkan threshold\n",
    "        anomalies = filtered_data[(filtered_data['lonjakan'].abs() > threshold)]\n",
    "        \n",
    "        # Cek apakah ada anomali\n",
    "        if not anomalies.empty:\n",
    "            print(f\"Anomali jumlah faskes di {kabupaten_kota}:\")\n",
    "            print(anomalies[['tahun', 'jumlah_faskes', 'lonjakan', 'tahun_sebelumnya', 'jumlah_faskes_sebelumnya']])\n"
   ]
  },
  {
   "cell_type": "code",
   "execution_count": 51,
   "id": "cf613f67",
   "metadata": {},
   "outputs": [
    {
     "name": "stdout",
     "output_type": "stream",
     "text": [
      "Anomali jumlah faskes di KABUPATEN BEKASI:\n",
      "   tahun  jumlah_faskes  lonjakan  tahun_sebelumnya  jumlah_faskes_sebelumnya\n",
      "2   2021             48       4.0            2020.0                      44.0\n"
     ]
    }
   ],
   "source": [
    "deteksi_lonjakan_faskes(filter_RS_umum, 3)"
   ]
  },
  {
   "cell_type": "markdown",
   "id": "5d0fe906",
   "metadata": {},
   "source": [
    "di atas merupakan contoh penggunaan fungsi dengan tresholde = 3 berikut outputnya"
   ]
  },
  {
   "cell_type": "code",
   "execution_count": 52,
   "id": "5de8c861",
   "metadata": {},
   "outputs": [
    {
     "name": "stdout",
     "output_type": "stream",
     "text": [
      "None\n"
     ]
    }
   ],
   "source": [
    "print(deteksi_lonjakan_faskes(filter_RS_umum, 7))"
   ]
  },
  {
   "cell_type": "markdown",
   "id": "35636955",
   "metadata": {},
   "source": [
    "untuk pengujiannya kami menetapkan treshold = 7, karena kami menganggap bahwa sangat jarang sebuah wilayah membangun RS Umum sebanyak lebih dari 7 dalam 1 tahun. Ketika fungsi tersebut dipanggil tidak ada data yang diprint, artinya tidak ada lonjakan yang lebih dari 7"
   ]
  },
  {
   "cell_type": "markdown",
   "id": "af0bf344",
   "metadata": {},
   "source": [
    "## Cek jumlah Posyandu yang sama dengan 0 di suatu daerah"
   ]
  },
  {
   "cell_type": "markdown",
   "id": "dca48086",
   "metadata": {},
   "source": [
    "Terdapat 27 data posyandu yang bernilai 0, hal ini tentunya tidak wajar karena tidak mungkin suatu daerah tidak memiliki Posyandu"
   ]
  },
  {
   "cell_type": "markdown",
   "id": "cf4bf8c1",
   "metadata": {},
   "source": [
    "Menigisi data jumlah posyandu yang bernilai 0 dengan nilai rata-rata"
   ]
  },
  {
   "cell_type": "markdown",
   "id": "f34ab141",
   "metadata": {},
   "source": [
    "## Cek apabila ada lonjakan jumlah faskes Posyandu yang tidak wajar"
   ]
  },
  {
   "cell_type": "code",
   "execution_count": 53,
   "id": "0b3c039c",
   "metadata": {},
   "outputs": [
    {
     "name": "stdout",
     "output_type": "stream",
     "text": [
      "Anomali jumlah faskes di KABUPATEN CIREBON:\n",
      "   tahun  jumlah_faskes  lonjakan  tahun_sebelumnya  jumlah_faskes_sebelumnya\n",
      "1   2020           2660    2657.0            2019.0                       3.0\n",
      "None\n"
     ]
    }
   ],
   "source": [
    "print(deteksi_lonjakan_faskes(filter_posyandu, 1000))"
   ]
  },
  {
   "cell_type": "markdown",
   "id": "34fccd59",
   "metadata": {},
   "source": [
    "# Pembersihan Dataset Puskesmas"
   ]
  },
  {
   "cell_type": "markdown",
   "id": "2d2aa36d",
   "metadata": {},
   "source": [
    "### Cek jumlah Puskesmas = 0"
   ]
  },
  {
   "cell_type": "code",
   "execution_count": 54,
   "id": "ba9e4f6d",
   "metadata": {},
   "outputs": [
    {
     "name": "stdout",
     "output_type": "stream",
     "text": [
      "Empty DataFrame\n",
      "Columns: [nama_kabupaten_kota, jenis_faskes, jumlah_faskes, tahun]\n",
      "Index: []\n"
     ]
    }
   ],
   "source": [
    "print(filter_puskesmas[filter_puskesmas['jumlah_faskes'] == 0])"
   ]
  },
  {
   "cell_type": "markdown",
   "id": "bd2c6ec2",
   "metadata": {},
   "source": [
    "### Cek lonjakan jumlah Puskesmas"
   ]
  },
  {
   "cell_type": "code",
   "execution_count": 55,
   "id": "e09d9c7b",
   "metadata": {},
   "outputs": [
    {
     "name": "stdout",
     "output_type": "stream",
     "text": [
      "None\n"
     ]
    }
   ],
   "source": [
    "print(deteksi_lonjakan_faskes(filter_puskesmas, 1000))"
   ]
  },
  {
   "cell_type": "markdown",
   "id": "6657fcd8",
   "metadata": {},
   "source": [
    "## Pembersihan Dataset RS Bersalin"
   ]
  },
  {
   "cell_type": "code",
   "execution_count": 56,
   "id": "06462eb8",
   "metadata": {},
   "outputs": [
    {
     "data": {
      "text/html": [
       "<div>\n",
       "<style scoped>\n",
       "    .dataframe tbody tr th:only-of-type {\n",
       "        vertical-align: middle;\n",
       "    }\n",
       "\n",
       "    .dataframe tbody tr th {\n",
       "        vertical-align: top;\n",
       "    }\n",
       "\n",
       "    .dataframe thead th {\n",
       "        text-align: right;\n",
       "    }\n",
       "</style>\n",
       "<table border=\"1\" class=\"dataframe\">\n",
       "  <thead>\n",
       "    <tr style=\"text-align: right;\">\n",
       "      <th></th>\n",
       "      <th>nama_kabupaten_kota</th>\n",
       "      <th>jenis_faskes</th>\n",
       "      <th>jumlah_faskes</th>\n",
       "      <th>tahun</th>\n",
       "    </tr>\n",
       "  </thead>\n",
       "  <tbody>\n",
       "    <tr>\n",
       "      <th>322</th>\n",
       "      <td>KABUPATEN SUMEDANG</td>\n",
       "      <td>RUMAH SAKIT BERSALIN</td>\n",
       "      <td>22</td>\n",
       "      <td>2020</td>\n",
       "    </tr>\n",
       "  </tbody>\n",
       "</table>\n",
       "</div>"
      ],
      "text/plain": [
       "    nama_kabupaten_kota          jenis_faskes  jumlah_faskes  tahun\n",
       "322  KABUPATEN SUMEDANG  RUMAH SAKIT BERSALIN             22   2020"
      ]
     },
     "execution_count": 56,
     "metadata": {},
     "output_type": "execute_result"
    }
   ],
   "source": [
    "filter_RS_bersalin[filter_RS_bersalin['jumlah_faskes'] > 2]"
   ]
  },
  {
   "cell_type": "code",
   "execution_count": 57,
   "id": "2ab24509",
   "metadata": {},
   "outputs": [
    {
     "data": {
      "text/html": [
       "<div>\n",
       "<style scoped>\n",
       "    .dataframe tbody tr th:only-of-type {\n",
       "        vertical-align: middle;\n",
       "    }\n",
       "\n",
       "    .dataframe tbody tr th {\n",
       "        vertical-align: top;\n",
       "    }\n",
       "\n",
       "    .dataframe thead th {\n",
       "        text-align: right;\n",
       "    }\n",
       "</style>\n",
       "<table border=\"1\" class=\"dataframe\">\n",
       "  <thead>\n",
       "    <tr style=\"text-align: right;\">\n",
       "      <th></th>\n",
       "      <th>nama_kabupaten_kota</th>\n",
       "      <th>jenis_faskes</th>\n",
       "      <th>jumlah_faskes</th>\n",
       "      <th>tahun</th>\n",
       "    </tr>\n",
       "  </thead>\n",
       "  <tbody>\n",
       "    <tr>\n",
       "      <th>187</th>\n",
       "      <td>KABUPATEN SUMEDANG</td>\n",
       "      <td>RUMAH SAKIT BERSALIN</td>\n",
       "      <td>0</td>\n",
       "      <td>2019</td>\n",
       "    </tr>\n",
       "    <tr>\n",
       "      <th>322</th>\n",
       "      <td>KABUPATEN SUMEDANG</td>\n",
       "      <td>RUMAH SAKIT BERSALIN</td>\n",
       "      <td>22</td>\n",
       "      <td>2020</td>\n",
       "    </tr>\n",
       "    <tr>\n",
       "      <th>457</th>\n",
       "      <td>KABUPATEN SUMEDANG</td>\n",
       "      <td>RUMAH SAKIT BERSALIN</td>\n",
       "      <td>0</td>\n",
       "      <td>2021</td>\n",
       "    </tr>\n",
       "    <tr>\n",
       "      <th>592</th>\n",
       "      <td>KABUPATEN SUMEDANG</td>\n",
       "      <td>RUMAH SAKIT BERSALIN</td>\n",
       "      <td>0</td>\n",
       "      <td>2022</td>\n",
       "    </tr>\n",
       "    <tr>\n",
       "      <th>727</th>\n",
       "      <td>KABUPATEN SUMEDANG</td>\n",
       "      <td>RUMAH SAKIT BERSALIN</td>\n",
       "      <td>0</td>\n",
       "      <td>2023</td>\n",
       "    </tr>\n",
       "  </tbody>\n",
       "</table>\n",
       "</div>"
      ],
      "text/plain": [
       "    nama_kabupaten_kota          jenis_faskes  jumlah_faskes  tahun\n",
       "187  KABUPATEN SUMEDANG  RUMAH SAKIT BERSALIN              0   2019\n",
       "322  KABUPATEN SUMEDANG  RUMAH SAKIT BERSALIN             22   2020\n",
       "457  KABUPATEN SUMEDANG  RUMAH SAKIT BERSALIN              0   2021\n",
       "592  KABUPATEN SUMEDANG  RUMAH SAKIT BERSALIN              0   2022\n",
       "727  KABUPATEN SUMEDANG  RUMAH SAKIT BERSALIN              0   2023"
      ]
     },
     "execution_count": 57,
     "metadata": {},
     "output_type": "execute_result"
    }
   ],
   "source": [
    "filter_RS_bersalin[filter_RS_bersalin['nama_kabupaten_kota'] == 'KABUPATEN SUMEDANG']"
   ]
  },
  {
   "cell_type": "markdown",
   "id": "5cf8f8ad",
   "metadata": {},
   "source": [
    "Terdapat lonjakan yang tidak wajar pada tahun 2020, kemungkinan besar hal tersebut merupakan kesalahan input"
   ]
  },
  {
   "cell_type": "code",
   "execution_count": 58,
   "id": "7924697b",
   "metadata": {},
   "outputs": [
    {
     "data": {
      "text/html": [
       "<div>\n",
       "<style scoped>\n",
       "    .dataframe tbody tr th:only-of-type {\n",
       "        vertical-align: middle;\n",
       "    }\n",
       "\n",
       "    .dataframe tbody tr th {\n",
       "        vertical-align: top;\n",
       "    }\n",
       "\n",
       "    .dataframe thead th {\n",
       "        text-align: right;\n",
       "    }\n",
       "</style>\n",
       "<table border=\"1\" class=\"dataframe\">\n",
       "  <thead>\n",
       "    <tr style=\"text-align: right;\">\n",
       "      <th></th>\n",
       "      <th>nama_kabupaten_kota</th>\n",
       "      <th>jenis_faskes</th>\n",
       "      <th>jumlah_faskes</th>\n",
       "      <th>tahun</th>\n",
       "    </tr>\n",
       "  </thead>\n",
       "  <tbody>\n",
       "    <tr>\n",
       "      <th>322</th>\n",
       "      <td>KABUPATEN SUMEDANG</td>\n",
       "      <td>RUMAH SAKIT BERSALIN</td>\n",
       "      <td>0</td>\n",
       "      <td>2020</td>\n",
       "    </tr>\n",
       "  </tbody>\n",
       "</table>\n",
       "</div>"
      ],
      "text/plain": [
       "    nama_kabupaten_kota          jenis_faskes  jumlah_faskes  tahun\n",
       "322  KABUPATEN SUMEDANG  RUMAH SAKIT BERSALIN              0   2020"
      ]
     },
     "execution_count": 58,
     "metadata": {},
     "output_type": "execute_result"
    }
   ],
   "source": [
    "# Mengubah nilai jumlah_faskes menjadi 0 untuk kabupaten dan tahun tertentu\n",
    "filter_RS_bersalin.loc[(filter_RS_bersalin['nama_kabupaten_kota'] == 'KABUPATEN SUMEDANG') & \n",
    "                       (filter_RS_bersalin['tahun'] == 2020), 'jumlah_faskes'] = 0\n",
    "\n",
    "filter_RS_bersalin[(filter_RS_bersalin['nama_kabupaten_kota'] == 'KABUPATEN SUMEDANG') & (filter_RS_bersalin['tahun'] == 2020)]"
   ]
  },
  {
   "cell_type": "markdown",
   "id": "e8ce02ed",
   "metadata": {},
   "source": [
    "## Pembersihan Dataset RS Khusus"
   ]
  },
  {
   "cell_type": "code",
   "execution_count": 59,
   "id": "f83051f9",
   "metadata": {},
   "outputs": [
    {
     "data": {
      "text/html": [
       "<div>\n",
       "<style scoped>\n",
       "    .dataframe tbody tr th:only-of-type {\n",
       "        vertical-align: middle;\n",
       "    }\n",
       "\n",
       "    .dataframe tbody tr th {\n",
       "        vertical-align: top;\n",
       "    }\n",
       "\n",
       "    .dataframe thead th {\n",
       "        text-align: right;\n",
       "    }\n",
       "</style>\n",
       "<table border=\"1\" class=\"dataframe\">\n",
       "  <thead>\n",
       "    <tr style=\"text-align: right;\">\n",
       "      <th></th>\n",
       "      <th>nama_kabupaten_kota</th>\n",
       "      <th>jenis_faskes</th>\n",
       "      <th>jumlah_faskes</th>\n",
       "      <th>tahun</th>\n",
       "    </tr>\n",
       "  </thead>\n",
       "  <tbody>\n",
       "    <tr>\n",
       "      <th>136</th>\n",
       "      <td>KABUPATEN BOGOR</td>\n",
       "      <td>RUMAH SAKIT KHUSUS</td>\n",
       "      <td>6</td>\n",
       "      <td>2019</td>\n",
       "    </tr>\n",
       "    <tr>\n",
       "      <th>236</th>\n",
       "      <td>KOTA BANDUNG</td>\n",
       "      <td>RUMAH SAKIT KHUSUS</td>\n",
       "      <td>15</td>\n",
       "      <td>2019</td>\n",
       "    </tr>\n",
       "    <tr>\n",
       "      <th>251</th>\n",
       "      <td>KOTA DEPOK</td>\n",
       "      <td>RUMAH SAKIT KHUSUS</td>\n",
       "      <td>6</td>\n",
       "      <td>2019</td>\n",
       "    </tr>\n",
       "    <tr>\n",
       "      <th>346</th>\n",
       "      <td>KABUPATEN BEKASI</td>\n",
       "      <td>RUMAH SAKIT KHUSUS</td>\n",
       "      <td>6</td>\n",
       "      <td>2020</td>\n",
       "    </tr>\n",
       "    <tr>\n",
       "      <th>371</th>\n",
       "      <td>KOTA BANDUNG</td>\n",
       "      <td>RUMAH SAKIT KHUSUS</td>\n",
       "      <td>15</td>\n",
       "      <td>2020</td>\n",
       "    </tr>\n",
       "    <tr>\n",
       "      <th>506</th>\n",
       "      <td>KOTA BANDUNG</td>\n",
       "      <td>RUMAH SAKIT KHUSUS</td>\n",
       "      <td>15</td>\n",
       "      <td>2021</td>\n",
       "    </tr>\n",
       "    <tr>\n",
       "      <th>641</th>\n",
       "      <td>KOTA BANDUNG</td>\n",
       "      <td>RUMAH SAKIT KHUSUS</td>\n",
       "      <td>15</td>\n",
       "      <td>2022</td>\n",
       "    </tr>\n",
       "    <tr>\n",
       "      <th>776</th>\n",
       "      <td>KOTA BANDUNG</td>\n",
       "      <td>RUMAH SAKIT KHUSUS</td>\n",
       "      <td>15</td>\n",
       "      <td>2023</td>\n",
       "    </tr>\n",
       "    <tr>\n",
       "      <th>801</th>\n",
       "      <td>KOTA TASIKMALAYA</td>\n",
       "      <td>RUMAH SAKIT KHUSUS</td>\n",
       "      <td>6</td>\n",
       "      <td>2023</td>\n",
       "    </tr>\n",
       "  </tbody>\n",
       "</table>\n",
       "</div>"
      ],
      "text/plain": [
       "    nama_kabupaten_kota        jenis_faskes  jumlah_faskes  tahun\n",
       "136     KABUPATEN BOGOR  RUMAH SAKIT KHUSUS              6   2019\n",
       "236        KOTA BANDUNG  RUMAH SAKIT KHUSUS             15   2019\n",
       "251          KOTA DEPOK  RUMAH SAKIT KHUSUS              6   2019\n",
       "346    KABUPATEN BEKASI  RUMAH SAKIT KHUSUS              6   2020\n",
       "371        KOTA BANDUNG  RUMAH SAKIT KHUSUS             15   2020\n",
       "506        KOTA BANDUNG  RUMAH SAKIT KHUSUS             15   2021\n",
       "641        KOTA BANDUNG  RUMAH SAKIT KHUSUS             15   2022\n",
       "776        KOTA BANDUNG  RUMAH SAKIT KHUSUS             15   2023\n",
       "801    KOTA TASIKMALAYA  RUMAH SAKIT KHUSUS              6   2023"
      ]
     },
     "execution_count": 59,
     "metadata": {},
     "output_type": "execute_result"
    }
   ],
   "source": [
    "filter_RS_khusus[filter_RS_khusus['jumlah_faskes'] > 5]"
   ]
  },
  {
   "cell_type": "code",
   "execution_count": 60,
   "id": "1dc7a1ec",
   "metadata": {},
   "outputs": [
    {
     "data": {
      "text/html": [
       "<div>\n",
       "<style scoped>\n",
       "    .dataframe tbody tr th:only-of-type {\n",
       "        vertical-align: middle;\n",
       "    }\n",
       "\n",
       "    .dataframe tbody tr th {\n",
       "        vertical-align: top;\n",
       "    }\n",
       "\n",
       "    .dataframe thead th {\n",
       "        text-align: right;\n",
       "    }\n",
       "</style>\n",
       "<table border=\"1\" class=\"dataframe\">\n",
       "  <thead>\n",
       "    <tr style=\"text-align: right;\">\n",
       "      <th></th>\n",
       "      <th>nama_kabupaten_kota</th>\n",
       "      <th>jenis_faskes</th>\n",
       "      <th>jumlah_faskes</th>\n",
       "      <th>tahun</th>\n",
       "    </tr>\n",
       "  </thead>\n",
       "  <tbody>\n",
       "    <tr>\n",
       "      <th>136</th>\n",
       "      <td>KABUPATEN BOGOR</td>\n",
       "      <td>RUMAH SAKIT KHUSUS</td>\n",
       "      <td>6</td>\n",
       "      <td>2019</td>\n",
       "    </tr>\n",
       "    <tr>\n",
       "      <th>271</th>\n",
       "      <td>KABUPATEN BOGOR</td>\n",
       "      <td>RUMAH SAKIT KHUSUS</td>\n",
       "      <td>5</td>\n",
       "      <td>2020</td>\n",
       "    </tr>\n",
       "    <tr>\n",
       "      <th>406</th>\n",
       "      <td>KABUPATEN BOGOR</td>\n",
       "      <td>RUMAH SAKIT KHUSUS</td>\n",
       "      <td>4</td>\n",
       "      <td>2021</td>\n",
       "    </tr>\n",
       "    <tr>\n",
       "      <th>541</th>\n",
       "      <td>KABUPATEN BOGOR</td>\n",
       "      <td>RUMAH SAKIT KHUSUS</td>\n",
       "      <td>3</td>\n",
       "      <td>2022</td>\n",
       "    </tr>\n",
       "    <tr>\n",
       "      <th>676</th>\n",
       "      <td>KABUPATEN BOGOR</td>\n",
       "      <td>RUMAH SAKIT KHUSUS</td>\n",
       "      <td>4</td>\n",
       "      <td>2023</td>\n",
       "    </tr>\n",
       "  </tbody>\n",
       "</table>\n",
       "</div>"
      ],
      "text/plain": [
       "    nama_kabupaten_kota        jenis_faskes  jumlah_faskes  tahun\n",
       "136     KABUPATEN BOGOR  RUMAH SAKIT KHUSUS              6   2019\n",
       "271     KABUPATEN BOGOR  RUMAH SAKIT KHUSUS              5   2020\n",
       "406     KABUPATEN BOGOR  RUMAH SAKIT KHUSUS              4   2021\n",
       "541     KABUPATEN BOGOR  RUMAH SAKIT KHUSUS              3   2022\n",
       "676     KABUPATEN BOGOR  RUMAH SAKIT KHUSUS              4   2023"
      ]
     },
     "execution_count": 60,
     "metadata": {},
     "output_type": "execute_result"
    }
   ],
   "source": [
    "filter_RS_khusus[filter_RS_khusus['nama_kabupaten_kota'] == 'KABUPATEN BOGOR']"
   ]
  },
  {
   "cell_type": "code",
   "execution_count": 61,
   "id": "ab1ffde0",
   "metadata": {},
   "outputs": [
    {
     "data": {
      "text/html": [
       "<div>\n",
       "<style scoped>\n",
       "    .dataframe tbody tr th:only-of-type {\n",
       "        vertical-align: middle;\n",
       "    }\n",
       "\n",
       "    .dataframe tbody tr th {\n",
       "        vertical-align: top;\n",
       "    }\n",
       "\n",
       "    .dataframe thead th {\n",
       "        text-align: right;\n",
       "    }\n",
       "</style>\n",
       "<table border=\"1\" class=\"dataframe\">\n",
       "  <thead>\n",
       "    <tr style=\"text-align: right;\">\n",
       "      <th></th>\n",
       "      <th>nama_kabupaten_kota</th>\n",
       "      <th>jenis_faskes</th>\n",
       "      <th>jumlah_faskes</th>\n",
       "      <th>tahun</th>\n",
       "    </tr>\n",
       "  </thead>\n",
       "  <tbody>\n",
       "    <tr>\n",
       "      <th>236</th>\n",
       "      <td>KOTA BANDUNG</td>\n",
       "      <td>RUMAH SAKIT KHUSUS</td>\n",
       "      <td>15</td>\n",
       "      <td>2019</td>\n",
       "    </tr>\n",
       "    <tr>\n",
       "      <th>371</th>\n",
       "      <td>KOTA BANDUNG</td>\n",
       "      <td>RUMAH SAKIT KHUSUS</td>\n",
       "      <td>15</td>\n",
       "      <td>2020</td>\n",
       "    </tr>\n",
       "    <tr>\n",
       "      <th>506</th>\n",
       "      <td>KOTA BANDUNG</td>\n",
       "      <td>RUMAH SAKIT KHUSUS</td>\n",
       "      <td>15</td>\n",
       "      <td>2021</td>\n",
       "    </tr>\n",
       "    <tr>\n",
       "      <th>641</th>\n",
       "      <td>KOTA BANDUNG</td>\n",
       "      <td>RUMAH SAKIT KHUSUS</td>\n",
       "      <td>15</td>\n",
       "      <td>2022</td>\n",
       "    </tr>\n",
       "    <tr>\n",
       "      <th>776</th>\n",
       "      <td>KOTA BANDUNG</td>\n",
       "      <td>RUMAH SAKIT KHUSUS</td>\n",
       "      <td>15</td>\n",
       "      <td>2023</td>\n",
       "    </tr>\n",
       "  </tbody>\n",
       "</table>\n",
       "</div>"
      ],
      "text/plain": [
       "    nama_kabupaten_kota        jenis_faskes  jumlah_faskes  tahun\n",
       "236        KOTA BANDUNG  RUMAH SAKIT KHUSUS             15   2019\n",
       "371        KOTA BANDUNG  RUMAH SAKIT KHUSUS             15   2020\n",
       "506        KOTA BANDUNG  RUMAH SAKIT KHUSUS             15   2021\n",
       "641        KOTA BANDUNG  RUMAH SAKIT KHUSUS             15   2022\n",
       "776        KOTA BANDUNG  RUMAH SAKIT KHUSUS             15   2023"
      ]
     },
     "execution_count": 61,
     "metadata": {},
     "output_type": "execute_result"
    }
   ],
   "source": [
    "filter_RS_khusus[filter_RS_khusus['nama_kabupaten_kota'] == 'KOTA BANDUNG']"
   ]
  },
  {
   "cell_type": "code",
   "execution_count": 62,
   "id": "9cb2ba53",
   "metadata": {},
   "outputs": [
    {
     "data": {
      "text/html": [
       "<div>\n",
       "<style scoped>\n",
       "    .dataframe tbody tr th:only-of-type {\n",
       "        vertical-align: middle;\n",
       "    }\n",
       "\n",
       "    .dataframe tbody tr th {\n",
       "        vertical-align: top;\n",
       "    }\n",
       "\n",
       "    .dataframe thead th {\n",
       "        text-align: right;\n",
       "    }\n",
       "</style>\n",
       "<table border=\"1\" class=\"dataframe\">\n",
       "  <thead>\n",
       "    <tr style=\"text-align: right;\">\n",
       "      <th></th>\n",
       "      <th>nama_kabupaten_kota</th>\n",
       "      <th>jenis_faskes</th>\n",
       "      <th>jumlah_faskes</th>\n",
       "      <th>tahun</th>\n",
       "    </tr>\n",
       "  </thead>\n",
       "  <tbody>\n",
       "    <tr>\n",
       "      <th>251</th>\n",
       "      <td>KOTA DEPOK</td>\n",
       "      <td>RUMAH SAKIT KHUSUS</td>\n",
       "      <td>6</td>\n",
       "      <td>2019</td>\n",
       "    </tr>\n",
       "    <tr>\n",
       "      <th>386</th>\n",
       "      <td>KOTA DEPOK</td>\n",
       "      <td>RUMAH SAKIT KHUSUS</td>\n",
       "      <td>5</td>\n",
       "      <td>2020</td>\n",
       "    </tr>\n",
       "    <tr>\n",
       "      <th>521</th>\n",
       "      <td>KOTA DEPOK</td>\n",
       "      <td>RUMAH SAKIT KHUSUS</td>\n",
       "      <td>4</td>\n",
       "      <td>2021</td>\n",
       "    </tr>\n",
       "    <tr>\n",
       "      <th>656</th>\n",
       "      <td>KOTA DEPOK</td>\n",
       "      <td>RUMAH SAKIT KHUSUS</td>\n",
       "      <td>4</td>\n",
       "      <td>2022</td>\n",
       "    </tr>\n",
       "    <tr>\n",
       "      <th>791</th>\n",
       "      <td>KOTA DEPOK</td>\n",
       "      <td>RUMAH SAKIT KHUSUS</td>\n",
       "      <td>4</td>\n",
       "      <td>2023</td>\n",
       "    </tr>\n",
       "  </tbody>\n",
       "</table>\n",
       "</div>"
      ],
      "text/plain": [
       "    nama_kabupaten_kota        jenis_faskes  jumlah_faskes  tahun\n",
       "251          KOTA DEPOK  RUMAH SAKIT KHUSUS              6   2019\n",
       "386          KOTA DEPOK  RUMAH SAKIT KHUSUS              5   2020\n",
       "521          KOTA DEPOK  RUMAH SAKIT KHUSUS              4   2021\n",
       "656          KOTA DEPOK  RUMAH SAKIT KHUSUS              4   2022\n",
       "791          KOTA DEPOK  RUMAH SAKIT KHUSUS              4   2023"
      ]
     },
     "execution_count": 62,
     "metadata": {},
     "output_type": "execute_result"
    }
   ],
   "source": [
    "filter_RS_khusus[filter_RS_khusus['nama_kabupaten_kota'] == 'KOTA DEPOK']"
   ]
  },
  {
   "cell_type": "code",
   "execution_count": 63,
   "id": "7f1d6ab1",
   "metadata": {},
   "outputs": [
    {
     "data": {
      "text/html": [
       "<div>\n",
       "<style scoped>\n",
       "    .dataframe tbody tr th:only-of-type {\n",
       "        vertical-align: middle;\n",
       "    }\n",
       "\n",
       "    .dataframe tbody tr th {\n",
       "        vertical-align: top;\n",
       "    }\n",
       "\n",
       "    .dataframe thead th {\n",
       "        text-align: right;\n",
       "    }\n",
       "</style>\n",
       "<table border=\"1\" class=\"dataframe\">\n",
       "  <thead>\n",
       "    <tr style=\"text-align: right;\">\n",
       "      <th></th>\n",
       "      <th>nama_kabupaten_kota</th>\n",
       "      <th>jenis_faskes</th>\n",
       "      <th>jumlah_faskes</th>\n",
       "      <th>tahun</th>\n",
       "    </tr>\n",
       "  </thead>\n",
       "  <tbody>\n",
       "    <tr>\n",
       "      <th>211</th>\n",
       "      <td>KABUPATEN BEKASI</td>\n",
       "      <td>RUMAH SAKIT KHUSUS</td>\n",
       "      <td>5</td>\n",
       "      <td>2019</td>\n",
       "    </tr>\n",
       "    <tr>\n",
       "      <th>346</th>\n",
       "      <td>KABUPATEN BEKASI</td>\n",
       "      <td>RUMAH SAKIT KHUSUS</td>\n",
       "      <td>6</td>\n",
       "      <td>2020</td>\n",
       "    </tr>\n",
       "    <tr>\n",
       "      <th>481</th>\n",
       "      <td>KABUPATEN BEKASI</td>\n",
       "      <td>RUMAH SAKIT KHUSUS</td>\n",
       "      <td>4</td>\n",
       "      <td>2021</td>\n",
       "    </tr>\n",
       "    <tr>\n",
       "      <th>616</th>\n",
       "      <td>KABUPATEN BEKASI</td>\n",
       "      <td>RUMAH SAKIT KHUSUS</td>\n",
       "      <td>4</td>\n",
       "      <td>2022</td>\n",
       "    </tr>\n",
       "    <tr>\n",
       "      <th>751</th>\n",
       "      <td>KABUPATEN BEKASI</td>\n",
       "      <td>RUMAH SAKIT KHUSUS</td>\n",
       "      <td>4</td>\n",
       "      <td>2023</td>\n",
       "    </tr>\n",
       "  </tbody>\n",
       "</table>\n",
       "</div>"
      ],
      "text/plain": [
       "    nama_kabupaten_kota        jenis_faskes  jumlah_faskes  tahun\n",
       "211    KABUPATEN BEKASI  RUMAH SAKIT KHUSUS              5   2019\n",
       "346    KABUPATEN BEKASI  RUMAH SAKIT KHUSUS              6   2020\n",
       "481    KABUPATEN BEKASI  RUMAH SAKIT KHUSUS              4   2021\n",
       "616    KABUPATEN BEKASI  RUMAH SAKIT KHUSUS              4   2022\n",
       "751    KABUPATEN BEKASI  RUMAH SAKIT KHUSUS              4   2023"
      ]
     },
     "execution_count": 63,
     "metadata": {},
     "output_type": "execute_result"
    }
   ],
   "source": [
    "filter_RS_khusus[filter_RS_khusus['nama_kabupaten_kota'] == 'KABUPATEN BEKASI']"
   ]
  },
  {
   "cell_type": "markdown",
   "id": "ae8d32c0",
   "metadata": {},
   "source": [
    "Setelah melakukan pengamatan lonjakan jumlah faskes pada wilayah yang dicurigai anomali terlihat normal, terlebih lagi wilayah yang dicurigai merupakan wilayah padat penduduk, jadi sangat rasional jika memiliki RS Khusus"
   ]
  },
  {
   "cell_type": "code",
   "execution_count": 64,
   "id": "feeed403",
   "metadata": {},
   "outputs": [
    {
     "name": "stdout",
     "output_type": "stream",
     "text": [
      "None\n"
     ]
    }
   ],
   "source": [
    "print(deteksi_lonjakan_faskes(filter_RS_khusus, 5))"
   ]
  },
  {
   "cell_type": "markdown",
   "id": "ac1db524",
   "metadata": {},
   "source": [
    "# Menggabungkan seluruh dataset yang sudah dibersihkan"
   ]
  },
  {
   "cell_type": "code",
   "execution_count": 65,
   "id": "e75f7242",
   "metadata": {},
   "outputs": [],
   "source": [
    "clean_faskes = pd.concat([filter_RS_umum, filter_RS_khusus, filter_RS_bersalin,filter_posyandu,filter_puskesmas], ignore_index=True)"
   ]
  },
  {
   "cell_type": "markdown",
   "id": "5dee2f5a",
   "metadata": {},
   "source": [
    "## Dataset Jumlah Faskes yang sudah bersih"
   ]
  },
  {
   "cell_type": "code",
   "execution_count": 66,
   "id": "6714c8fe",
   "metadata": {},
   "outputs": [
    {
     "data": {
      "text/html": [
       "<div>\n",
       "<style scoped>\n",
       "    .dataframe tbody tr th:only-of-type {\n",
       "        vertical-align: middle;\n",
       "    }\n",
       "\n",
       "    .dataframe tbody tr th {\n",
       "        vertical-align: top;\n",
       "    }\n",
       "\n",
       "    .dataframe thead th {\n",
       "        text-align: right;\n",
       "    }\n",
       "</style>\n",
       "<table border=\"1\" class=\"dataframe\">\n",
       "  <thead>\n",
       "    <tr style=\"text-align: right;\">\n",
       "      <th></th>\n",
       "      <th>nama_kabupaten_kota</th>\n",
       "      <th>jenis_faskes</th>\n",
       "      <th>jumlah_faskes</th>\n",
       "      <th>tahun</th>\n",
       "    </tr>\n",
       "  </thead>\n",
       "  <tbody>\n",
       "    <tr>\n",
       "      <th>0</th>\n",
       "      <td>KABUPATEN BOGOR</td>\n",
       "      <td>RUMAH SAKIT UMUM</td>\n",
       "      <td>23</td>\n",
       "      <td>2019</td>\n",
       "    </tr>\n",
       "    <tr>\n",
       "      <th>1</th>\n",
       "      <td>KABUPATEN SUKABUMI</td>\n",
       "      <td>RUMAH SAKIT UMUM</td>\n",
       "      <td>7</td>\n",
       "      <td>2019</td>\n",
       "    </tr>\n",
       "    <tr>\n",
       "      <th>2</th>\n",
       "      <td>KABUPATEN CIANJUR</td>\n",
       "      <td>RUMAH SAKIT UMUM</td>\n",
       "      <td>4</td>\n",
       "      <td>2019</td>\n",
       "    </tr>\n",
       "    <tr>\n",
       "      <th>3</th>\n",
       "      <td>KABUPATEN BANDUNG</td>\n",
       "      <td>RUMAH SAKIT UMUM</td>\n",
       "      <td>8</td>\n",
       "      <td>2019</td>\n",
       "    </tr>\n",
       "    <tr>\n",
       "      <th>4</th>\n",
       "      <td>KABUPATEN GARUT</td>\n",
       "      <td>RUMAH SAKIT UMUM</td>\n",
       "      <td>6</td>\n",
       "      <td>2019</td>\n",
       "    </tr>\n",
       "    <tr>\n",
       "      <th>...</th>\n",
       "      <td>...</td>\n",
       "      <td>...</td>\n",
       "      <td>...</td>\n",
       "      <td>...</td>\n",
       "    </tr>\n",
       "    <tr>\n",
       "      <th>670</th>\n",
       "      <td>KOTA BEKASI</td>\n",
       "      <td>PUSKESMAS</td>\n",
       "      <td>48</td>\n",
       "      <td>2023</td>\n",
       "    </tr>\n",
       "    <tr>\n",
       "      <th>671</th>\n",
       "      <td>KOTA DEPOK</td>\n",
       "      <td>PUSKESMAS</td>\n",
       "      <td>38</td>\n",
       "      <td>2023</td>\n",
       "    </tr>\n",
       "    <tr>\n",
       "      <th>672</th>\n",
       "      <td>KOTA CIMAHI</td>\n",
       "      <td>PUSKESMAS</td>\n",
       "      <td>13</td>\n",
       "      <td>2023</td>\n",
       "    </tr>\n",
       "    <tr>\n",
       "      <th>673</th>\n",
       "      <td>KOTA TASIKMALAYA</td>\n",
       "      <td>PUSKESMAS</td>\n",
       "      <td>22</td>\n",
       "      <td>2023</td>\n",
       "    </tr>\n",
       "    <tr>\n",
       "      <th>674</th>\n",
       "      <td>KOTA BANJAR</td>\n",
       "      <td>PUSKESMAS</td>\n",
       "      <td>10</td>\n",
       "      <td>2023</td>\n",
       "    </tr>\n",
       "  </tbody>\n",
       "</table>\n",
       "<p>675 rows × 4 columns</p>\n",
       "</div>"
      ],
      "text/plain": [
       "    nama_kabupaten_kota      jenis_faskes  jumlah_faskes  tahun\n",
       "0       KABUPATEN BOGOR  RUMAH SAKIT UMUM             23   2019\n",
       "1    KABUPATEN SUKABUMI  RUMAH SAKIT UMUM              7   2019\n",
       "2     KABUPATEN CIANJUR  RUMAH SAKIT UMUM              4   2019\n",
       "3     KABUPATEN BANDUNG  RUMAH SAKIT UMUM              8   2019\n",
       "4       KABUPATEN GARUT  RUMAH SAKIT UMUM              6   2019\n",
       "..                  ...               ...            ...    ...\n",
       "670         KOTA BEKASI         PUSKESMAS             48   2023\n",
       "671          KOTA DEPOK         PUSKESMAS             38   2023\n",
       "672         KOTA CIMAHI         PUSKESMAS             13   2023\n",
       "673    KOTA TASIKMALAYA         PUSKESMAS             22   2023\n",
       "674         KOTA BANJAR         PUSKESMAS             10   2023\n",
       "\n",
       "[675 rows x 4 columns]"
      ]
     },
     "execution_count": 66,
     "metadata": {},
     "output_type": "execute_result"
    }
   ],
   "source": [
    "clean_faskes"
   ]
  },
  {
   "cell_type": "markdown",
   "id": "c8ec6264",
   "metadata": {},
   "source": [
    "# Pra-Proses Dataset Penyakit"
   ]
  },
  {
   "cell_type": "markdown",
   "id": "c68ba402",
   "metadata": {},
   "source": [
    "#ntuk pembersihan dataset penyakit dilakukan di minggu selanjutnya mengingat terbatasnya waktu pengumpulan tugas, Untuk tata cara pembersihan dataset penyakit kurang lebih sama dengan pembersihan dataset Faskes"
   ]
  },
  {
   "cell_type": "code",
   "execution_count": null,
   "id": "5cb85ed4",
   "metadata": {},
   "outputs": [],
   "source": []
  },
  {
   "cell_type": "markdown",
   "id": "0e03dce5",
   "metadata": {},
   "source": [
    "# Visualisasi Data"
   ]
  },
  {
   "cell_type": "markdown",
   "id": "52719488",
   "metadata": {},
   "source": [
    "Jumlah persebaran RS Umum di provinsi Jawa Barat dari tahun ke tahun"
   ]
  },
  {
   "cell_type": "code",
   "execution_count": 67,
   "id": "11365ecd",
   "metadata": {},
   "outputs": [
    {
     "data": {
      "image/png": "[encoded data removed]",
      "text/plain": [
       "<Figure size 2000x600 with 1 Axes>"
      ]
     },
     "metadata": {},
     "output_type": "display_data"
    }
   ],
   "source": [
    "# Filter data\n",
    "data_RSU_2019 = clean_faskes[(clean_faskes['jenis_faskes'] == 'RUMAH SAKIT UMUM') & (clean_faskes['tahun'] == 2019)]\n",
    "\n",
    "# Membuat visualisasi bar\n",
    "plt.figure(figsize=(20, 6))\n",
    "plt.bar(data_RSU_2019['nama_kabupaten_kota'], data_RSU_2019['jumlah_faskes'], color='skyblue')\n",
    "plt.title('Jumlah Rumah Sakit Umum di 2019')\n",
    "plt.xlabel('Nama Kabupaten/Kota')\n",
    "plt.ylabel('Jumlah Fasilitas Kesehatan')\n",
    "plt.xticks(rotation=45)\n",
    "plt.tight_layout()\n",
    "plt.show()"
   ]
  },
  {
   "cell_type": "code",
   "execution_count": 68,
   "id": "4be51b7d",
   "metadata": {},
   "outputs": [
    {
     "data": {
      "image/png": "[encoded data removed]",
      "text/plain": [
       "<Figure size 2000x600 with 1 Axes>"
      ]
     },
     "metadata": {},
     "output_type": "display_data"
    }
   ],
   "source": [
    "# Filter data\n",
    "data_RSU_2020 = clean_faskes[(clean_faskes['jenis_faskes'] == 'RUMAH SAKIT UMUM') & (clean_faskes['tahun'] == 2020)]\n",
    "\n",
    "# Membuat visualisasi bar\n",
    "plt.figure(figsize=(20, 6))\n",
    "plt.bar(data_RSU_2020['nama_kabupaten_kota'], data_RSU_2020['jumlah_faskes'], color='skyblue')\n",
    "plt.title('Jumlah Rumah Sakit Umum di 2020')\n",
    "plt.xlabel('Nama Kabupaten/Kota')\n",
    "plt.ylabel('Jumlah Fasilitas Kesehatan')\n",
    "plt.xticks(rotation=45)\n",
    "plt.tight_layout()\n",
    "plt.show()"
   ]
  },
  {
   "cell_type": "code",
   "execution_count": 69,
   "id": "24f337db",
   "metadata": {},
   "outputs": [
    {
     "data": {
      "image/png": "[encoded data removed]",
      "text/plain": [
       "<Figure size 2000x600 with 1 Axes>"
      ]
     },
     "metadata": {},
     "output_type": "display_data"
    }
   ],
   "source": [
    "# Filter data\n",
    "data_RSU_2021 = clean_faskes[(clean_faskes['jenis_faskes'] == 'RUMAH SAKIT UMUM') & (clean_faskes['tahun'] == 2021)]\n",
    "\n",
    "# Membuat visualisasi bar\n",
    "plt.figure(figsize=(20, 6))\n",
    "plt.bar(data_RSU_2021['nama_kabupaten_kota'], data_RSU_2021['jumlah_faskes'], color='skyblue')\n",
    "plt.title('Jumlah Rumah Sakit Umum di 2021')\n",
    "plt.xlabel('Nama Kabupaten/Kota')\n",
    "plt.ylabel('Jumlah Fasilitas Kesehatan')\n",
    "plt.xticks(rotation=45)\n",
    "plt.tight_layout()\n",
    "plt.show()"
   ]
  },
  {
   "cell_type": "code",
   "execution_count": 70,
   "id": "5eab7dc0",
   "metadata": {},
   "outputs": [
    {
     "data": {
      "image/png": "[encoded data removed]",
      "text/plain": [
       "<Figure size 2000x600 with 1 Axes>"
      ]
     },
     "metadata": {},
     "output_type": "display_data"
    }
   ],
   "source": [
    "# Filter data\n",
    "data_RSU_2022 = clean_faskes[(clean_faskes['jenis_faskes'] == 'RUMAH SAKIT UMUM') & (clean_faskes['tahun'] == 2022)]\n",
    "\n",
    "# Membuat visualisasi bar\n",
    "plt.figure(figsize=(20, 6))\n",
    "plt.bar(data_RSU_2022['nama_kabupaten_kota'], data_RSU_2022['jumlah_faskes'], color='skyblue')\n",
    "plt.title('Jumlah Rumah Sakit Umum di 2022')\n",
    "plt.xlabel('Nama Kabupaten/Kota')\n",
    "plt.ylabel('Jumlah Fasilitas Kesehatan')\n",
    "plt.xticks(rotation=45)\n",
    "plt.tight_layout()\n",
    "plt.show()"
   ]
  },
  {
   "cell_type": "code",
   "execution_count": 71,
   "id": "bb7c3e54",
   "metadata": {},
   "outputs": [
    {
     "data": {
      "image/png": "[encoded data removed]",
      "text/plain": [
       "<Figure size 2000x600 with 1 Axes>"
      ]
     },
     "metadata": {},
     "output_type": "display_data"
    }
   ],
   "source": [
    "# Filter data\n",
    "data_RSU_2023 = clean_faskes[(clean_faskes['jenis_faskes'] == 'RUMAH SAKIT UMUM') & (clean_faskes['tahun'] == 2023)]\n",
    "\n",
    "# Membuat visualisasi bar\n",
    "plt.figure(figsize=(20, 6))\n",
    "plt.bar(data_RSU_2023['nama_kabupaten_kota'], data_RSU_2023['jumlah_faskes'], color='skyblue')\n",
    "plt.title('Jumlah Rumah Sakit Umum di 2023')\n",
    "plt.xlabel('Nama Kabupaten/Kota')\n",
    "plt.ylabel('Jumlah Fasilitas Kesehatan')\n",
    "plt.xticks(rotation=45)\n",
    "plt.tight_layout()\n",
    "plt.show()"
   ]
  },
  {
   "cell_type": "markdown",
   "id": "a100f8f2",
   "metadata": {},
   "source": [
    "Berdasarkan grafik diatas, jumlah Rumah Sakit Umum dari tahun 2019 sampai tahun 2023 tidak mengalami perubahan yang signifikan. \n",
    "Kemudian jumlah Rumah Sakit Umum di Kabupaten Karawang adalah yang tertinggi di Provinsi Jawa Barat, menurut kami itu terjadi dikarenakan banyaknya pabrik yang memungkinkan banyak terjadi kasus kecelakaan kerja. \n",
    "Sedangkan jumlah fasilita kesehatan terendah terdapat di Kabupaten Bandung Barat dan Kabupaten Garut."
   ]
  },
  {
   "cell_type": "markdown",
   "id": "48fbe111",
   "metadata": {},
   "source": [
    "## Kesimpulan (Menyusul)"
   ]
  },
  {
   "cell_type": "markdown",
   "id": "3179df34",
   "metadata": {},
   "source": [
    "Section ini akan berisi jawaban dari pertanyaan yang di bagian awal"
   ]
  },
  {
   "cell_type": "code",
   "execution_count": null,
   "id": "c4d533c2",
   "metadata": {},
   "outputs": [],
   "source": [
    "clean_faskes[clean_faskes['jen']]"
   ]
  }
 ],
 "metadata": {
  "kernelspec": {
   "display_name": "Python 3 (ipykernel)",
   "language": "python",
   "name": "python3"
  },
  "language_info": {
   "codemirror_mode": {
    "name": "ipython",
    "version": 3
   },
   "file_extension": ".py",
   "mimetype": "text/x-python",
   "name": "python",
   "nbconvert_exporter": "python",
   "pygments_lexer": "ipython3",
   "version": "3.9.13"
  }
 },
 "nbformat": 4,
 "nbformat_minor": 5
}
